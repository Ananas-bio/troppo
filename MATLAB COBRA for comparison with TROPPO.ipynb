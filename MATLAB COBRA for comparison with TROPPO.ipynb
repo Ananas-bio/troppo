{
 "cells": [
  {
   "cell_type": "markdown",
   "metadata": {},
   "source": [
    "This is the Jupyter Notebook where we will run the COBRA toolbox in order to evaluate the reconstructed models and benchmark the time of each algorithm to make a comparison with our Python implementation"
   ]
  },
  {
   "cell_type": "code",
   "execution_count": null,
   "metadata": {
    "collapsed": true
   },
   "outputs": [],
   "source": [
    "initCobraToolbox"
   ]
  },
  {
   "cell_type": "markdown",
   "metadata": {},
   "source": [
    "# DATA\n",
    "Here we will be using the model present in the FastCore test present in the COBRA toolbox"
   ]
  },
  {
   "cell_type": "code",
   "execution_count": 21,
   "metadata": {},
   "outputs": [
    {
     "name": "stdout",
     "output_type": "stream",
     "text": [
      "\n"
     ]
    }
   ],
   "source": [
    "load('D:\\Matlab\\cobratoolbox\\test\\verifiedTests\\analysis\\testFASTCORE\\FastCoreTest.mat');"
   ]
  },
  {
   "cell_type": "markdown",
   "metadata": {},
   "source": [
    "The expression data used for the reconstruction of the tissue specific models is available at [url](url) and the preprocessed version [url_preprocessed](url_preprocessed) is obtained through a script [url_script_preprocessing](url_script_preprocessing)"
   ]
  },
  {
   "cell_type": "code",
   "execution_count": null,
   "metadata": {
    "collapsed": true
   },
   "outputs": [],
   "source": [
    "map = readtable('D:/Matlab/tINIT_map.csv'); % this has to change for the glial cells expression dataset"
   ]
  },
  {
   "cell_type": "markdown",
   "metadata": {},
   "source": [
    "# FASTcore\n",
    "This is (...)"
   ]
  },
  {
   "cell_type": "code",
   "execution_count": null,
   "metadata": {
    "collapsed": true
   },
   "outputs": [],
   "source": [
    "tic\n",
    "    [model_FASTcore, coreBool] = fastcore(ConsistentRecon2, coreInd, 1e-4,1); % change the core to the one we're going to generate for glial cells\n",
    "toc"
   ]
  },
  {
   "cell_type": "markdown",
   "metadata": {},
   "source": [
    "# tINIT (this uses RAVEN toolbox)\n",
    "This is (...)"
   ]
  },
  {
   "cell_type": "code",
   "execution_count": null,
   "metadata": {
    "collapsed": true
   },
   "outputs": [],
   "source": [
    "model_tINIT = runINIT(ConsistentRecon2, table2array(map(:,2))); % This algorithm runs with Gurobi Solver"
   ]
  },
  {
   "cell_type": "markdown",
   "metadata": {},
   "source": [
    "# Note\n",
    "A change has been made in the original code for the iMAT algorithm. \n",
    "# TODO check if there is a way to bypass this without changing the code"
   ]
  },
  {
   "cell_type": "markdown",
   "metadata": {},
   "source": [
    "# iMAT\n",
    "This is the same input given to TROPPO in order to evaluate the if our implementation is well made"
   ]
  },
  {
   "cell_type": "code",
   "execution_count": 2,
   "metadata": {},
   "outputs": [
    {
     "name": "stdout",
     "output_type": "stream",
     "text": [
      "\n"
     ]
    }
   ],
   "source": [
    "%if isfield(modelCom,'C') || isfield(modelCom,'E')\n",
    "%    issueConfirmationWarning('iMat does not handle the additional constraints and variables defined in the model structure (fields .C and .E.)\\n It will only use the stoichiometry provided.');\n",
    "%end"
   ]
  },
  {
   "cell_type": "markdown",
   "metadata": {},
   "source": [
    "This has been made just to make sure the algorithm runs without stopping at this confirmation"
   ]
  },
  {
   "cell_type": "code",
   "execution_count": null,
   "metadata": {
    "collapsed": true
   },
   "outputs": [],
   "source": [
    "model_iMAT = iMAT(ConsistentRecon2, table2array(map(:,2)), 2, 5);"
   ]
  },
  {
   "cell_type": "markdown",
   "metadata": {},
   "source": [
    "With this, we were able to obtain a model with X reactions, Y metabolites and Z genes, with the ability (or not) of producing biomass"
   ]
  },
  {
   "cell_type": "markdown",
   "metadata": {},
   "source": [
    "# GIMME\n",
    "This is (...)"
   ]
  },
  {
   "cell_type": "code",
   "execution_count": null,
   "metadata": {
    "collapsed": true
   },
   "outputs": [],
   "source": [
    "model_GIMME = GIMME(ConsistentRecon2, table2array(map(:,2)), 0.8, 0.8);"
   ]
  },
  {
   "cell_type": "markdown",
   "metadata": {},
   "source": [
    "With this, we were able to obtain a model with X reactions, Y metabolites and Z genes, with the ability (or not) of producing biomass"
   ]
  },
  {
   "cell_type": "markdown",
   "metadata": {},
   "source": [
    "# CORDA\n",
    "This is (...)  \n",
    "**NOTE** This is not present in the COBRA toolbox. Algorithm available through the following [link](https://ndownloader.figshare.com/files/4805188 \"CORDA source code\").  \n",
    "**NOTE 2** Place the *CORDA.m* file in the root of the MATLAB folder  \n",
    "**NOTE 3** The most recent version of COBRA toolbox (v3) does not allow the execution of this algoritm. To run it, please use the previous version of COBRA toolbox (v2)."
   ]
  },
  {
   "cell_type": "code",
   "execution_count": null,
   "metadata": {
    "collapsed": true
   },
   "outputs": [],
   "source": [
    "% Code to separate the expression into three different groups\n",
    "ES;\n",
    "PR;\n",
    "NP;"
   ]
  },
  {
   "cell_type": "markdown",
   "metadata": {},
   "source": [
    "With this three groups, we will now run the algorithm"
   ]
  },
  {
   "cell_type": "code",
   "execution_count": null,
   "metadata": {
    "collapsed": true
   },
   "outputs": [],
   "source": [
    "model_CORDA = CORDA(ConsistentRecon2, [], ES, PR, NP);"
   ]
  },
  {
   "cell_type": "markdown",
   "metadata": {},
   "source": [
    "With this, we were able to obtain a model with X reactions, Y metabolites and Z genes, with the ability (or not) of producing biomass"
   ]
  },
  {
   "cell_type": "markdown",
   "metadata": {},
   "source": [
    "The following table represents the final summary of the tested algorithms."
   ]
  },
  {
   "cell_type": "code",
   "execution_count": 3,
   "metadata": {},
   "outputs": [
    {
     "name": "stdout",
     "output_type": "stream",
     "text": [
      "\n"
     ]
    }
   ],
   "source": [
    "% code for the table (either markdown or MATLAB)"
   ]
  },
  {
   "cell_type": "markdown",
   "metadata": {},
   "source": [
    "Since we are implementing the algoirhtms based on the code of COBRA toolbox, the next table is a comparison of speed of execution. The computer used was running Windows 10 version, with a processor i7-3630QM CPU @ 2.40 GHz (8 CPU), 16GB of RAM and MATLAB 2015a."
   ]
  },
  {
   "cell_type": "code",
   "execution_count": 4,
   "metadata": {},
   "outputs": [
    {
     "name": "stdout",
     "output_type": "stream",
     "text": [
      "\n"
     ]
    }
   ],
   "source": [
    "% code for the table (either markdown or MATLAB)"
   ]
  }
 ],
 "metadata": {
  "kernelspec": {
   "display_name": "Matlab",
   "language": "matlab",
   "name": "matlab"
  },
  "language_info": {
   "codemirror_mode": "octave",
   "file_extension": ".m",
   "help_links": [
    {
     "text": "MetaKernel Magics",
     "url": "https://github.com/calysto/metakernel/blob/master/metakernel/magics/README.md"
    }
   ],
   "mimetype": "text/x-octave",
   "name": "matlab",
   "version": "0.16.1"
  }
 },
 "nbformat": 4,
 "nbformat_minor": 2
}
