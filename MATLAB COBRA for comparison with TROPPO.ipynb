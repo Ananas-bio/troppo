{
 "cells": [
  {
   "cell_type": "markdown",
   "metadata": {},
   "source": [
    "This is the Jupyter Notebook where we will run the COBRA toolbox in order to evaluate the reconstructed models and benchmark the time of each algorithm to make a comparison with our Python implementation"
   ]
  },
  {
   "cell_type": "code",
   "execution_count": 3,
   "metadata": {},
   "outputs": [
    {
     "name": "stdout",
     "output_type": "stream",
     "text": [
      "\n",
      "\n",
      "      _____   _____   _____   _____     _____     |\n",
      "     /  ___| /  _  \\ |  _  \\ |  _  \\   / ___ \\    |   COnstraint-Based Reconstruction and Analysis\n",
      "     | |     | | | | | |_| | | |_| |  | |___| |   |   The COBRA Toolbox - 2019\n",
      "     | |     | | | | |  _  { |  _  /  |  ___  |   |\n",
      "     | |___  | |_| | | |_| | | | \\ \\  | |   | |   |   Documentation:\n",
      "     \\_____| \\_____/ |_____/ |_|  \\_\\ |_|   |_|   |   http://opencobra.github.io/cobratoolbox\n",
      "                                                  | \n",
      "\n",
      " > Checking if git is installed ...  Done (version: 2.20.1).\n",
      " > Checking if the repository is tracked using git ...  Done.\n",
      " > Checking if curl is installed ...  Done.\n",
      " > Checking if remote can be reached ...  Done.\n",
      " > Initializing and updating submodules (this may take a while)... Done.\n",
      " > Adding all the files of The COBRA Toolbox ...  Done.\n",
      " > Define CB map output... set to svg.\n",
      " > TranslateSBML is installed and working properly.\n",
      " > Configuring solver environment variables ...\n",
      "   - [---*] ILOG_CPLEX_PATH: C:\\Program Files (x86)\\ibm\\ILOG\\CPLEX_Studio125\\cplex\\matlab\\x64_win64\n",
      "   - [*---] GUROBI_PATH: D:\\gurobi810\\win64\\matlab\n",
      "   - [----] TOMLAB_PATH: --> set this path manually after installing the solver ( see https://opencobra.github.io/cobratoolbox/docs/solvers.html )\n",
      "   - [----] MOSEK_PATH: --> set this path manually after installing the solver ( see https://opencobra.github.io/cobratoolbox/docs/solvers.html )\n",
      "   Done.\n",
      " > Checking available solvers and solver interfaces ... Done.\n",
      " > Setting default solvers ... Done.\n",
      " > Saving the MATLAB path ... Done.\n",
      "   - The MATLAB path was saved in the default location.\n",
      "\n",
      " > Summary of available solvers and solver interfaces\n",
      "\n",
      "\t\t\t\t\tSupport           LP \t MILP \t   QP \t MIQP \t  NLP\n",
      "\t----------------------------------------------------------------------\n",
      "\tgurobi       \tactive        \t    1 \t    1 \t    1 \t    1 \t    -\n",
      "\tibm_cplex    \tactive        \t    1 \t    1 \t    1 \t    - \t    -\n",
      "\ttomlab_cplex \tactive        \t    0 \t    0 \t    0 \t    0 \t    -\n",
      "\tglpk         \tactive        \t    1 \t    1 \t    - \t    - \t    -\n",
      "\tmosek        \tactive        \t    0 \t    - \t    0 \t    - \t    -\n",
      "\tmatlab       \tactive        \t    1 \t    - \t    - \t    - \t    1\n",
      "\tcplex_direct \tactive        \t    0 \t    0 \t    0 \t    0 \t    -\n",
      "\tdqqMinos     \tactive        \t    0 \t    - \t    - \t    - \t    -\n",
      "\tpdco         \tactive        \t    1 \t    - \t    1 \t    - \t    -\n",
      "\tquadMinos    \tactive        \t    0 \t    - \t    - \t    - \t    -\n",
      "\tqpng         \tpassive       \t    - \t    - \t    1 \t    - \t    -\n",
      "\ttomlab_snopt \tpassive       \t    - \t    - \t    - \t    - \t    0\n",
      "\tlp_solve     \tlegacy        \t    1 \t    - \t    - \t    - \t    -\n",
      "\t----------------------------------------------------------------------\n",
      "\tTotal        \t-             \t    6 \t    3 \t    4 \t    1 \t    1\n",
      "\n",
      " + Legend: - = not applicable, 0 = solver not compatible or not installed, 1 = solver installed.\n",
      "\n",
      "\n",
      " > You can solve LP problems using: 'gurobi' - 'ibm_cplex' - 'glpk' - 'matlab' - 'pdco' \n",
      " > You can solve MILP problems using: 'gurobi' - 'ibm_cplex' - 'glpk' \n",
      " > You can solve QP problems using: 'gurobi' - 'ibm_cplex' - 'pdco' - 'qpng' \n",
      " > You can solve MIQP problems using: 'gurobi' \n",
      " > You can solve NLP problems using: 'matlab' \n",
      "\n",
      " > Checking for available updates ...\n",
      " > gitBash is installed (version: 2.13.3).\n",
      " > gitBash is not up-to-date (version: 2.13.3). Version 2.21.0 is available.\n",
      " > The COBRA Toolbox is up-to-date.\n",
      "\n"
     ]
    }
   ],
   "source": [
    "initCobraToolbox"
   ]
  },
  {
   "cell_type": "code",
   "execution_count": 5,
   "metadata": {},
   "outputs": [
    {
     "name": "stdout",
     "output_type": "stream",
     "text": [
      "\n"
     ]
    }
   ],
   "source": [
    "load('D:\\Matlab\\cobratoolbox\\test\\verifiedTests\\analysis\\testFASTCORE\\FastCoreTest.mat');"
   ]
  },
  {
   "cell_type": "code",
   "execution_count": null,
   "metadata": {
    "collapsed": true
   },
   "outputs": [],
   "source": [
    "[tissue, coreBool] = fastcore(ConsistentRecon2, coreInd, 1e-4,1)"
   ]
  },
  {
   "cell_type": "code",
   "execution_count": null,
   "metadata": {
    "collapsed": true
   },
   "outputs": [],
   "source": [
    "who"
   ]
  },
  {
   "cell_type": "code",
   "execution_count": null,
   "metadata": {
    "collapsed": true
   },
   "outputs": [],
   "source": []
  }
 ],
 "metadata": {
  "kernelspec": {
   "display_name": "Matlab",
   "language": "matlab",
   "name": "matlab"
  },
  "language_info": {
   "codemirror_mode": "octave",
   "file_extension": ".m",
   "help_links": [
    {
     "text": "MetaKernel Magics",
     "url": "https://github.com/calysto/metakernel/blob/master/metakernel/magics/README.md"
    }
   ],
   "mimetype": "text/x-octave",
   "name": "matlab",
   "version": "0.16.1"
  }
 },
 "nbformat": 4,
 "nbformat_minor": 2
}
