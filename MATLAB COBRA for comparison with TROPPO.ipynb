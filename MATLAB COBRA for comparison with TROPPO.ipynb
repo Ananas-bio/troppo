{
 "cells": [
  {
   "cell_type": "markdown",
   "metadata": {},
   "source": [
    "This is the Jupyter Notebook where we will run the COBRA toolbox in order to evaluate the reconstructed models and benchmark the time of each algorithm to make a comparison with our Python implementation"
   ]
  },
  {
   "cell_type": "code",
   "execution_count": 1,
   "metadata": {},
   "outputs": [
    {
     "name": "stdout",
     "output_type": "stream",
     "text": [
      "\n",
      "\n",
      "      _____   _____   _____   _____     _____     |\n",
      "     /  ___| /  _  \\ |  _  \\ |  _  \\   / ___ \\    |   COnstraint-Based Reconstruction and Analysis\n",
      "     | |     | | | | | |_| | | |_| |  | |___| |   |   The COBRA Toolbox - 2019\n",
      "     | |     | | | | |  _  { |  _  /  |  ___  |   |\n",
      "     | |___  | |_| | | |_| | | | \\ \\  | |   | |   |   Documentation:\n",
      "     \\_____| \\_____/ |_____/ |_|  \\_\\ |_|   |_|   |   http://opencobra.github.io/cobratoolbox\n",
      "                                                  | \n",
      "\n",
      " > Checking if git is installed ...  Done (version: 2.20.1).\n",
      " > Checking if the repository is tracked using git ...  Done.\n",
      " > Checking if curl is installed ...  Done.\n",
      " > Checking if remote can be reached ...  Done.\n",
      " > Initializing and updating submodules (this may take a while)... Done.\n",
      " > Adding all the files of The COBRA Toolbox ...  Done.\n",
      " > Define CB map output... set to svg.\n",
      " > TranslateSBML is installed and working properly.\n",
      " > Configuring solver environment variables ...\n",
      "   - [---*] ILOG_CPLEX_PATH: C:\\Program Files (x86)\\ibm\\ILOG\\CPLEX_Studio125\\cplex\\matlab\\x64_win64\n",
      "   - [*---] GUROBI_PATH: D:\\gurobi810\\win64\\matlab\n",
      "   - [----] TOMLAB_PATH: --> set this path manually after installing the solver ( see https://opencobra.github.io/cobratoolbox/docs/solvers.html )\n",
      "   - [----] MOSEK_PATH: --> set this path manually after installing the solver ( see https://opencobra.github.io/cobratoolbox/docs/solvers.html )\n",
      "   Done.\n",
      " > Checking available solvers and solver interfaces ... Done.\n",
      " > Setting default solvers ... Done.\n",
      " > Saving the MATLAB path ... Done.\n",
      "   - The MATLAB path was saved in the default location.\n",
      "\n",
      " > Summary of available solvers and solver interfaces\n",
      "\n",
      "\t\t\t\t\tSupport           LP \t MILP \t   QP \t MIQP \t  NLP\n",
      "\t----------------------------------------------------------------------\n",
      "\tgurobi       \tactive        \t    1 \t    1 \t    1 \t    1 \t    -\n",
      "\tibm_cplex    \tactive        \t    1 \t    1 \t    1 \t    - \t    -\n",
      "\ttomlab_cplex \tactive        \t    0 \t    0 \t    0 \t    0 \t    -\n",
      "\tglpk         \tactive        \t    1 \t    1 \t    - \t    - \t    -\n",
      "\tmosek        \tactive        \t    0 \t    - \t    0 \t    - \t    -\n",
      "\tmatlab       \tactive        \t    1 \t    - \t    - \t    - \t    1\n",
      "\tcplex_direct \tactive        \t    0 \t    0 \t    0 \t    0 \t    -\n",
      "\tdqqMinos     \tactive        \t    0 \t    - \t    - \t    - \t    -\n",
      "\tpdco         \tactive        \t    1 \t    - \t    1 \t    - \t    -\n",
      "\tquadMinos    \tactive        \t    0 \t    - \t    - \t    - \t    -\n",
      "\tqpng         \tpassive       \t    - \t    - \t    1 \t    - \t    -\n",
      "\ttomlab_snopt \tpassive       \t    - \t    - \t    - \t    - \t    0\n",
      "\tlp_solve     \tlegacy        \t    1 \t    - \t    - \t    - \t    -\n",
      "\t----------------------------------------------------------------------\n",
      "\tTotal        \t-             \t    6 \t    3 \t    4 \t    1 \t    1\n",
      "\n",
      " + Legend: - = not applicable, 0 = solver not compatible or not installed, 1 = solver installed.\n",
      "\n",
      "\n",
      " > You can solve LP problems using: 'gurobi' - 'ibm_cplex' - 'glpk' - 'matlab' - 'pdco' \n",
      " > You can solve MILP problems using: 'gurobi' - 'ibm_cplex' - 'glpk' \n",
      " > You can solve QP problems using: 'gurobi' - 'ibm_cplex' - 'pdco' - 'qpng' \n",
      " > You can solve MIQP problems using: 'gurobi' \n",
      " > You can solve NLP problems using: 'matlab' \n",
      "\n",
      " > Checking for available updates ...\n",
      " > gitBash is installed (version: 2.13.3).\n",
      " > gitBash is not up-to-date (version: 2.13.3). Version 2.21.0 is available.\n",
      " > There are 7018 new commit(s) on <master> and 0 new commit(s) on <develop> [f3fe20 @ master]\n",
      " > You can update The COBRA Toolbox by running updateCobraToolbox() (from within MATLAB).\n",
      "\n"
     ]
    }
   ],
   "source": [
    "initCobraToolbox"
   ]
  },
  {
   "cell_type": "markdown",
   "metadata": {},
   "source": [
    "# DATA\n",
    "Here we will be using the model present in the FastCore test present in the COBRA toolbox"
   ]
  },
  {
   "cell_type": "code",
   "execution_count": 2,
   "metadata": {},
   "outputs": [
    {
     "name": "stdout",
     "output_type": "stream",
     "text": [
      "\n"
     ]
    }
   ],
   "source": [
    "load('D:\\Matlab\\cobratoolbox\\test\\verifiedTests\\analysis\\testFASTCORE\\FastCoreTest.mat');"
   ]
  },
  {
   "cell_type": "markdown",
   "metadata": {},
   "source": [
    "The expression data used for the reconstruction of the tissue specific models is available at [url](url) and the preprocessed version [url_preprocessed](url_preprocessed) is obtained through a script [url_script_preprocessing](url_script_preprocessing)"
   ]
  },
  {
   "cell_type": "code",
   "execution_count": 4,
   "metadata": {},
   "outputs": [
    {
     "name": "stdout",
     "output_type": "stream",
     "text": [
      "Warning: Variable names were modified to make them valid MATLAB identifiers.\n",
      "\n"
     ]
    }
   ],
   "source": [
    "map = readtable('D:/Matlab/tINIT_map.csv'); % this has to change for the glial cells expression dataset"
   ]
  },
  {
   "cell_type": "markdown",
   "metadata": {},
   "source": [
    "# FASTcore\n",
    "This is (...)"
   ]
  },
  {
   "cell_type": "code",
   "execution_count": 7,
   "metadata": {},
   "outputs": [
    {
     "name": "stdout",
     "output_type": "stream",
     "text": [
      "|J|=30  LP7 -3.000000e-03\n",
      "\n",
      "ans =\n",
      "\n",
      "     1\n",
      "\n",
      "LP9 2.109505e+04\n",
      "|A|=488\n",
      "|J|=16  LP7 -1.300000e-03\n",
      "\n",
      "ans =\n",
      "\n",
      "     1\n",
      "\n",
      "LP9 4.732000e+02\n",
      "|A|=554\n",
      "|J|=3  LP7 0\n",
      "|A|=554\n",
      "(flip)  LP7 -3.000000e-04\n",
      "\n",
      "ans =\n",
      "\n",
      "     1\n",
      "\n",
      "LP9 \n",
      "\n",
      "0 = sol.stat\n",
      "INFEASIBLE = sol.origStat\n",
      "Warning: LP solution may not be optimal\n",
      "[\b> In LP9 (line 58)\n",
      "  In findSparseMode (line 47)\n",
      "  In fastcore (line 109)]\b \n",
      "|A|=554\n",
      "LP7 -1.000000e-04\n",
      "\n",
      "ans =\n",
      "\n",
      "     1\n",
      "\n",
      "LP9 4.833333e+01\n",
      "|A|=565\n",
      "|J|=1  LP7 -1.000000e-04\n",
      "\n",
      "ans =\n",
      "\n",
      "     1\n",
      "\n",
      "LP9 4.000000e+01\n",
      "|A|=570\n",
      "|J|=0  |A|=570\n",
      "Elapsed time is 250.567943 seconds.\n",
      "\n"
     ]
    }
   ],
   "source": [
    "tic\n",
    "    [model_FASTcore, coreBool] = fastcore(ConsistentRecon2, coreInd, 1e-4,1); % change the core to the one we're going to generate for glial cells\n",
    "toc"
   ]
  },
  {
   "cell_type": "markdown",
   "metadata": {},
   "source": [
    "# tINIT (this uses RAVEN toolbox)\n",
    "This is (...)"
   ]
  },
  {
   "cell_type": "code",
   "execution_count": 8,
   "metadata": {},
   "outputs": [
    {
     "name": "stdout",
     "output_type": "stream",
     "text": [
      "MILP detected.\n",
      "Academic license - for non-commercial use only\n",
      "Optimize a model with 10692 rows, 29116 columns and 57160 nonzeros\n",
      "Variable types: 21384 continuous, 7732 integer (0 binary)\n",
      "Coefficient statistics:\n",
      "  Matrix range     [3e-03, 1e+03]\n",
      "  Objective range  [2e-03, 1e+01]\n",
      "  Bounds range     [1e+00, 1e+03]\n",
      "  RHS range        [0e+00, 0e+00]\n",
      "Presolve removed 1112 rows and 5106 columns\n",
      "Presolve time: 0.26s\n",
      "Presolved: 9580 rows, 24010 columns, 50517 nonzeros\n",
      "Variable types: 16551 continuous, 7459 integer (7459 binary)\n",
      "Presolve removed 1 rows and 18 columns\n",
      "Presolved: 9579 rows, 23992 columns, 50499 nonzeros\n",
      "\n",
      "\n",
      "Root relaxation: objective -4.761875e+02, 9505 iterations, 0.98 seconds\n",
      "\n",
      "    Nodes    |    Current Node    |     Objective Bounds      |     Work\n",
      " Expl Unexpl |  Obj  Depth IntInf | Incumbent    BestBd   Gap | It/Node Time\n",
      "\n",
      "     0     0 -476.18746    0  397          - -476.18746      -     -    1s\n",
      "     0     0 -173.76086    0  122          - -173.76086      -     -    2s\n",
      "     0     0   -8.76515    0   56          -   -8.76515      -     -    2s\n",
      "     0     0   -7.71959    0   53          -   -7.71959      -     -    2s\n",
      "     0     0    1.74780    0    6          -    1.74780      -     -    3s\n",
      "     0     0    2.87273    0    5          -    2.87273      -     -    3s\n",
      "     0     0    2.93628    0   33          -    2.93628      -     -    3s\n",
      "     0     0    3.16389    0   70          -    3.16389      -     -    3s\n",
      "H    0     0                       8.1654623    3.16389  61.3%     -    3s\n",
      "     0     0     cutoff    0         8.16546    8.16546  0.00%     -    4s\n",
      "\n",
      "Cutting planes:\n",
      "  Gomory: 200\n",
      "  Implied bound: 530\n",
      "  MIR: 2\n",
      "\n",
      "Explored 1 nodes (10970 simplex iterations) in 4.11 seconds\n",
      "Thread count was 8 (of 8 available processors)\n",
      "\n",
      "Solution count 1: 8.16546 \n",
      "\n",
      "Optimal solution found (tolerance 1.00e-09)\n",
      "Best objective 8.165462279503e+00, best bound 8.165462279503e+00, gap 0.0000%\n",
      "\n"
     ]
    }
   ],
   "source": [
    "model_tINIT = runINIT(ConsistentRecon2, table2array(map(:,2))); % This algorithm runs with Gurobi Solver"
   ]
  },
  {
   "cell_type": "markdown",
   "metadata": {},
   "source": [
    "# Note\n",
    "A change has been made in the original code for the iMAT algorithm. \n",
    "# TODO check if there is a way to bypass this without changing the code"
   ]
  },
  {
   "cell_type": "markdown",
   "metadata": {},
   "source": [
    "# iMAT\n",
    "This is the same input given to TROPPO in order to evaluate the if our implementation is well made"
   ]
  },
  {
   "cell_type": "code",
   "execution_count": 2,
   "metadata": {},
   "outputs": [
    {
     "name": "stdout",
     "output_type": "stream",
     "text": [
      "\n"
     ]
    }
   ],
   "source": [
    "%if isfield(modelCom,'C') || isfield(modelCom,'E')\n",
    "%    issueConfirmationWarning('iMat does not handle the additional constraints and variables defined in the model structure (fields .C and .E.)\\n It will only use the stoichiometry provided.');\n",
    "%end"
   ]
  },
  {
   "cell_type": "markdown",
   "metadata": {},
   "source": [
    "This has been made just to make sure the algorithm runs without stopping at this confirmation"
   ]
  },
  {
   "cell_type": "code",
   "execution_count": 5,
   "metadata": {},
   "outputs": [
    {
     "name": "stdout",
     "output_type": "stream",
     "text": [
      "Academic license - for non-commercial use only\n",
      "Optimize a model with 10308 rows, 11615 columns and 35208 nonzeros\n",
      "Variable types: 5317 continuous, 6298 integer (6298 binary)\n",
      "Coefficient statistics:\n",
      "  Matrix range     [3e-03, 1e+03]\n",
      "  Objective range  [1e+00, 1e+00]\n",
      "  Bounds range     [1e+00, 1e+03]\n",
      "  RHS range        [1e+00, 1e+03]\n",
      "Presolve removed 5460 rows and 4718 columns\n",
      "Presolve time: 0.11s\n",
      "Presolved: 4848 rows, 6897 columns, 21939 nonzeros\n",
      "Variable types: 3272 continuous, 3625 integer (3622 binary)\n",
      "Found heuristic solution: objective 1518.0000000\n",
      "\n",
      "Root relaxation: objective 4.184964e+03, 5458 iterations, 0.31 seconds\n",
      "\n",
      "    Nodes    |    Current Node    |     Objective Bounds      |     Work\n",
      " Expl Unexpl |  Obj  Depth IntInf | Incumbent    BestBd   Gap | It/Node Time\n",
      "\n",
      "     0     0 4184.96411    0 1001 1518.00000 4184.96411   176%     -    1s\n",
      "H    0     0                    3114.0000000 4184.96411  34.4%     -    1s\n",
      "H    0     0                    3116.0000000 4184.96411  34.3%     -    1s\n",
      "     0     0 3309.77194    0  399 3116.00000 3309.77194  6.22%     -    1s\n",
      "H    0     0                    3171.0000000 3309.77194  4.38%     -    1s\n",
      "     0     0 3266.54550    0  363 3171.00000 3266.54550  3.01%     -    2s\n",
      "     0     0 3263.19453    0  353 3171.00000 3263.19453  2.91%     -    2s\n",
      "     0     0 3262.36448    0  354 3171.00000 3262.36448  2.88%     -    2s\n",
      "     0     0 3262.36448    0  354 3171.00000 3262.36448  2.88%     -    2s\n",
      "     0     0 3253.98488    0  249 3171.00000 3253.98488  2.62%     -    2s\n",
      "H    0     0                    3199.0000000 3253.98488  1.72%     -    2s\n",
      "     0     0 3252.98438    0  243 3199.00000 3252.98438  1.69%     -    2s\n",
      "     0     0 3252.98438    0  243 3199.00000 3252.98438  1.69%     -    2s\n",
      "     0     0 3252.47765    0  236 3199.00000 3252.47765  1.67%     -    3s\n",
      "     0     0 3252.47765    0   45 3199.00000 3252.47765  1.67%     -    4s\n",
      "H    0     0                    3224.0000000 3252.47765  0.88%     -    4s\n",
      "H    0     0                    3225.0000000 3252.47765  0.85%     -    4s\n",
      "     0     2 3252.47765    0   45 3225.00000 3252.47765  0.85%     -    4s\n",
      "H    1     4                    3227.0000000 3252.47715  0.79%  38.0    4s\n",
      "    15    17 3250.70867    5   78 3227.00000 3252.13922  0.78%   169    5s\n",
      "H  129   119                    3228.0000000 3252.13922  0.75%  80.7    6s\n",
      "H  130   119                    3229.0000000 3252.13922  0.72%  80.0    6s\n",
      "H  140   130                    3232.0000000 3252.13922  0.62%  78.3    6s\n",
      "H  153   144                    3233.0000000 3252.13922  0.59%  74.8    6s\n",
      "H  154   144                    3234.0000000 3252.13922  0.56%  74.3    6s\n",
      "H  155   144                    3235.0000000 3252.13922  0.53%  73.8    6s\n",
      "H  157   144                    3236.0000000 3252.13922  0.50%  72.9    6s\n",
      "H  164   154                    3237.0000000 3252.13922  0.47%  72.3    7s\n",
      "H  218   207                    3238.0000000 3252.13922  0.44%  62.0    7s\n",
      "H  343   305                    3239.0000000 3252.13922  0.41%  46.3    8s\n",
      "H  392   348                    3241.0000000 3252.13922  0.34%  42.5    8s\n",
      "H  397   337                    3242.0000000 3252.12480  0.31%  42.7    9s\n",
      "   467   388 3250.05390    8  131 3242.00000 3252.12480  0.31%  48.9   10s\n",
      "  1048   796 3247.96355   38  980 3242.00000 3251.64659  0.30%  37.0   15s\n",
      "  1069   810 3245.99692   24   21 3242.00000 3245.99692  0.12%  36.3   20s\n",
      "  1082   820 3245.99688   22   22 3242.00000 3245.99688  0.12%  49.0   25s\n",
      "\n",
      "Cutting planes:\n",
      "  Learned: 811\n",
      "  Gomory: 59\n",
      "  Cover: 165\n",
      "  Implied bound: 29\n",
      "  Clique: 13\n",
      "  MIR: 28\n",
      "  StrongCG: 1\n",
      "  Flow cover: 66\n",
      "  Inf proof: 1\n",
      "  Network: 1\n",
      "\n",
      "Explored 1404 nodes (89069 simplex iterations) in 29.67 seconds\n",
      "Thread count was 8 (of 8 available processors)\n",
      "\n",
      "Solution count 10: 3242 3241 3239 ... 3232\n",
      "\n",
      "Optimal solution found (tolerance 1.00e-12)\n",
      "Best objective 3.242000000000e+03, best bound 3.242000000000e+03, gap 0.0000%\n",
      "Elapsed time is 31.346525 seconds.\n",
      "\n"
     ]
    }
   ],
   "source": [
    "tic\n",
    "    model_iMAT = iMAT(ConsistentRecon2, table2array(map(:,2)), 2, 5);\n",
    "toc"
   ]
  },
  {
   "cell_type": "markdown",
   "metadata": {},
   "source": [
    "With this, we were able to obtain a model with X reactions, Y metabolites and Z genes, with the ability (or not) of producing biomass"
   ]
  },
  {
   "cell_type": "markdown",
   "metadata": {},
   "source": [
    "# GIMME\n",
    "This is (...)"
   ]
  },
  {
   "cell_type": "code",
   "execution_count": 6,
   "metadata": {},
   "outputs": [
    {
     "name": "stdout",
     "output_type": "stream",
     "text": [
      "Elapsed time is 0.885762 seconds.\n",
      "\n"
     ]
    }
   ],
   "source": [
    "tic\n",
    "    model_GIMME = GIMME(ConsistentRecon2, table2array(map(:,2)), 0.8, 0.8);\n",
    "toc"
   ]
  },
  {
   "cell_type": "markdown",
   "metadata": {},
   "source": [
    "With this, we were able to obtain a model with X reactions, Y metabolites and Z genes, with the ability (or not) of producing biomass"
   ]
  },
  {
   "cell_type": "markdown",
   "metadata": {},
   "source": [
    "# CORDA\n",
    "This is (...)  \n",
    "**NOTE** This is not present in the COBRA toolbox. Algorithm available through the following [link](https://ndownloader.figshare.com/files/4805188 \"CORDA source code\").  \n",
    "**NOTE 2** Place the *CORDA.m* file in the root of the MATLAB folder  \n",
    "**NOTE 3** The most recent version of COBRA toolbox (v3) does not allow the execution of this algoritm. To run it, please use the previous version of COBRA toolbox (v2)."
   ]
  },
  {
   "cell_type": "code",
   "execution_count": null,
   "metadata": {
    "collapsed": true
   },
   "outputs": [],
   "source": [
    "% Code to separate the expression into three different groups\n",
    "ES;\n",
    "PR;\n",
    "NP;"
   ]
  },
  {
   "cell_type": "markdown",
   "metadata": {},
   "source": [
    "With this three groups, we will now run the algorithm"
   ]
  },
  {
   "cell_type": "code",
   "execution_count": null,
   "metadata": {
    "collapsed": true
   },
   "outputs": [],
   "source": [
    "model_CORDA = CORDA(ConsistentRecon2, [], ES, PR, NP);"
   ]
  },
  {
   "cell_type": "markdown",
   "metadata": {},
   "source": [
    "With this, we were able to obtain a model with X reactions, Y metabolites and Z genes, with the ability (or not) of producing biomass"
   ]
  },
  {
   "cell_type": "markdown",
   "metadata": {},
   "source": [
    "The following table represents the final summary of the tested algorithms."
   ]
  },
  {
   "cell_type": "code",
   "execution_count": 3,
   "metadata": {},
   "outputs": [
    {
     "name": "stdout",
     "output_type": "stream",
     "text": [
      "\n"
     ]
    }
   ],
   "source": [
    "% code for the table (either markdown or MATLAB)"
   ]
  },
  {
   "cell_type": "markdown",
   "metadata": {},
   "source": [
    "Since we are implementing the algoirhtms based on the code of COBRA toolbox, the next table is a comparison of speed of execution. The computer used was running Windows 10 version, with a processor i7-3630QM CPU @ 2.40 GHz (8 CPU), 16GB of RAM and MATLAB 2015a."
   ]
  },
  {
   "cell_type": "code",
   "execution_count": 4,
   "metadata": {},
   "outputs": [
    {
     "name": "stdout",
     "output_type": "stream",
     "text": [
      "\n"
     ]
    }
   ],
   "source": [
    "% code for the table (either markdown or MATLAB)"
   ]
  }
 ],
 "metadata": {
  "kernelspec": {
   "display_name": "Matlab",
   "language": "matlab",
   "name": "matlab"
  },
  "language_info": {
   "codemirror_mode": "octave",
   "file_extension": ".m",
   "help_links": [
    {
     "text": "MetaKernel Magics",
     "url": "https://github.com/calysto/metakernel/blob/master/metakernel/magics/README.md"
    }
   ],
   "mimetype": "text/x-octave",
   "name": "matlab",
   "version": "0.16.1"
  }
 },
 "nbformat": 4,
 "nbformat_minor": 2
}
