{
 "cells": [
  {
   "cell_type": "code",
   "execution_count": 3,
   "metadata": {
    "collapsed": true
   },
   "outputs": [],
   "source": [
    "import sys;sys.path.extend(['E:\\\\reconstruction', 'E:\\\\cobamp', 'E:\\\\reconstruction\\\\src', 'E:\\\\cobamp\\\\src', 'E:/reconstruction'])\n",
    "import cobra\n",
    "import framed\n",
    "import cobamp\n",
    "import pandas as pd\n",
    "import numpy as np\n",
    "import pickle\n",
    "import scipy as sci\n",
    "\n",
    "# for testing the algorithms\n",
    "from cobamp.wrappers import COBRAModelObjectReader\n",
    "from reconstruction.methods.imat import IMAT\n",
    "from reconstruction.methods.gimme import GIMME\n",
    "from reconstruction.methods.tINIT import tINIT\n",
    "from reconstruction.methods.fastcore import FASTcore\n",
    "from reconstruction.reconstruction_properties import FastcoreProperties, tINITProperties, GIMMEProperties, IMATProperties"
   ]
  },
  {
   "cell_type": "markdown",
   "metadata": {},
   "source": [
    "Here we are going to import the .mat file used for testing in the MATLAB COBRA package and will serve as basis for all the analysis"
   ]
  },
  {
   "cell_type": "code",
   "execution_count": 12,
   "metadata": {
    "collapsed": true
   },
   "outputs": [],
   "source": [
    "mat = sci.io.loadmat('./tests/FastCoreTest.mat')"
   ]
  },
  {
   "cell_type": "markdown",
   "metadata": {},
   "source": [
    "Since the .mat file contains all the information needed for the TROPPO package to work (the S matrix, lower and upper bounds), we are going to parse it"
   ]
  },
  {
   "cell_type": "code",
   "execution_count": 16,
   "metadata": {
    "collapsed": true
   },
   "outputs": [],
   "source": [
    "model = mat['ConsistentRecon2']\n",
    "S = model['S'][0][0].toarray()\n",
    "lb = model['lb'][0][0].ravel()\n",
    "ub = model['ub'][0][0].ravel()"
   ]
  },
  {
   "cell_type": "markdown",
   "metadata": {},
   "source": [
    "Since the algorithms need expression data to begin the pruning of the original model, we are going to import data from glial cells (complete the rest of the story here).\n",
    "We are also going to make different inputs accordingly to the needs of the algorithms that are goint to be tested."
   ]
  },
  {
   "cell_type": "code",
   "execution_count": null,
   "metadata": {
    "collapsed": true
   },
   "outputs": [],
   "source": [
    "original_data # import of the omics data before/after preprocessing\n",
    "input_data1 # this is for the A;B;C algorithms FASTCORE\n",
    "input_data2 # this is for the D;E;F algorithms tINIT\n",
    "input_data3, input_data3_1, input_data3_2, input_data3_3  # this is for the CORDA algorithms"
   ]
  },
  {
   "cell_type": "markdown",
   "metadata": {},
   "source": [
    "From here, we are going to test the already implement algorithms for tissue reconstruction. "
   ]
  },
  {
   "cell_type": "markdown",
   "metadata": {},
   "source": [
    "First, we are going to be testing the FASTcore algorithm"
   ]
  },
  {
   "cell_type": "code",
   "execution_count": null,
   "metadata": {
    "collapsed": true
   },
   "outputs": [],
   "source": [
    "core_reactions = input_data1\n",
    "fastcore = FASTcore(S, lb, ub, FastcoreProperties(solver = 'CPLEX', core=list(core_reactions)))\n",
    "tissue_reactions = fastcore.fastcore()"
   ]
  },
  {
   "cell_type": "markdown",
   "metadata": {},
   "source": [
    "With the FASTcore algorithm, we obtained X specific reactions for the data provided, generatung a model with X reactions, Y genes and Z metabolites, capable (or not) of producing biomass."
   ]
  },
  {
   "cell_type": "markdown",
   "metadata": {},
   "source": [
    "Now we're going to test the tINIT algorithm. For this case, as an input we are going to only provide reactions scores. The other properties of the algorithm are set to default (including the solver)."
   ]
  },
  {
   "cell_type": "code",
   "execution_count": null,
   "metadata": {
    "collapsed": true
   },
   "outputs": [],
   "source": [
    "tinit = tINIT(S, np.array(lb), np.array(ub),\n",
    "\t\t\t\t  tINITProperties(reactions_scores=input_data2, present_metabolites=[], essential_reactions=[],\n",
    "\t\t\t\t\t\t\t\t  production_weight=0.5, allow_excretion=False, no_reverse_loops=False, solver = \"GUROBI\"))\n",
    "reactions_to_remove_from_the_model = tinit.run_tINIT()"
   ]
  },
  {
   "cell_type": "markdown",
   "metadata": {},
   "source": [
    "With the tINIT algorithm, we obtained X specific reactions for the data provided, generatung a model with X reactions, Y genes and Z metabolites, capable (or not) of producing biomass."
   ]
  },
  {
   "cell_type": "markdown",
   "metadata": {},
   "source": [
    "For the CORDA algorithm, we needed four different types of sets of reactions (input_data3, input_data3_1, input_data3_2, input_data3_3). "
   ]
  },
  {
   "cell_type": "code",
   "execution_count": 1,
   "metadata": {
    "collapsed": true
   },
   "outputs": [],
   "source": [
    "# code for the CORDA test"
   ]
  },
  {
   "cell_type": "markdown",
   "metadata": {},
   "source": [
    "Regarding the CORDA reconstructed model, it has X reactions, Y genes and Z metabolites, and also capable(or not) of producing biomass"
   ]
  },
  {
   "cell_type": "markdown",
   "metadata": {},
   "source": [
    "For GIMME, we apply a threshold to the expression values originally from the expression dataset."
   ]
  },
  {
   "cell_type": "code",
   "execution_count": 2,
   "metadata": {
    "collapsed": true
   },
   "outputs": [],
   "source": [
    "# code for the GIMME test\n",
    "properties = GIMMEProperties(\n",
    "\texp_vector=input_data, # check what data should be here\n",
    "    obj_frac=0.8,\n",
    "    objectives=[np.array([0,0,0,0,0,0,0,0,1])], # check what vector to put here\n",
    "    preprocess=True,\n",
    "    flux_threshold=0.8\n",
    ")\n",
    "algorithm = GIMME(S, lb, ub, properties)\n",
    "model_GIMME = algorithm.run()"
   ]
  },
  {
   "cell_type": "markdown",
   "metadata": {},
   "source": [
    "With GIMME we are capable of obtaining both a flux distribution and a reconstructed model.\n",
    "For the flux distribution, ...\n",
    "As for the model, it is comprised with X reactions, Y genes and Z metabolites, capable (or not) of producing biomass."
   ]
  },
  {
   "cell_type": "markdown",
   "metadata": {},
   "source": [
    "For the iMAT algorihtm, we have to provide two different thresholds (...)."
   ]
  },
  {
   "cell_type": "code",
   "execution_count": 3,
   "metadata": {
    "collapsed": true
   },
   "outputs": [],
   "source": [
    "# code for the iMAT test\n",
    "properties = IMATProperties(\n",
    "    exp_vector = input_data, # check what input to here\n",
    "    exp_thresholds=(0.2,0.5)\n",
    ")\n",
    "\n",
    "method = IMAT(S, lb, ub, properties)\n",
    "print(['R'+str(i+1) for i in method.run()])"
   ]
  },
  {
   "cell_type": "markdown",
   "metadata": {},
   "source": [
    "With iMAT, we obtained a reconstructed model with X reactions, Y genes and Z metabolites, and capable(or not) of producing biomass."
   ]
  },
  {
   "cell_type": "markdown",
   "metadata": {},
   "source": [
    "The following table represents the final summary of the tested algorithms."
   ]
  },
  {
   "cell_type": "code",
   "execution_count": 1,
   "metadata": {
    "collapsed": true
   },
   "outputs": [],
   "source": [
    "# code for the table (do this with pandas or markdown)"
   ]
  },
  {
   "cell_type": "markdown",
   "metadata": {},
   "source": [
    "Since we are implementing the algoirhtms based on the code of COBRA toolbox, the next table is a comparison of speed of execution. The computer used was running Windows 10 version, with a processor i7-3630QM CPU @ 2.40 GHz (8 CPU), 16GB of RAM and Python 3.5.6."
   ]
  },
  {
   "cell_type": "code",
   "execution_count": 2,
   "metadata": {
    "collapsed": true
   },
   "outputs": [],
   "source": [
    "# code for the table with the benchmarks"
   ]
  },
  {
   "cell_type": "markdown",
   "metadata": {},
   "source": [
    "With this, we can see that the implementation in Pyhton is ...\n",
    "(mostly should run faster when compared to MATLAB)"
   ]
  },
  {
   "cell_type": "code",
   "execution_count": null,
   "metadata": {
    "collapsed": true
   },
   "outputs": [],
   "source": []
  }
 ],
 "metadata": {
  "kernelspec": {
   "display_name": "Python 3",
   "language": "python",
   "name": "python3"
  },
  "language_info": {
   "codemirror_mode": {
    "name": "ipython",
    "version": 3
   },
   "file_extension": ".py",
   "mimetype": "text/x-python",
   "name": "python",
   "nbconvert_exporter": "python",
   "pygments_lexer": "ipython3",
   "version": "3.5.6"
  }
 },
 "nbformat": 4,
 "nbformat_minor": 2
}
