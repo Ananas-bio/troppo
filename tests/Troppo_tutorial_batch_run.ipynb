{
 "cells": [
  {
   "metadata": {},
   "cell_type": "markdown",
   "source": "# Multi-sample examples using `batch_run` from *Cobamp*",
   "id": "de8c0c075355f8bc"
  },
  {
   "metadata": {},
   "cell_type": "markdown",
   "source": [
    "Several integration algorithms were introduced in the previous tutorials.\n",
    "However, the demonstrated approach was limited to a single sample.\n",
    "In some cases, multiple samples are available and the context-specific models are required for each.\n",
    "Hence, making the integration of multiple samples a necessity.\n",
    "\n",
    "`batch_run` is a function from *Cobamp* that allows multiprocessing and is fully compatible with the *Troppo* framework. \n",
    "Thus allowing the integration of multiple samples in a single run.\n",
    "This function requires four parameters:\n",
    "\n",
    "- `function`: the function that will run the reconstruction that needs to be parallelized.\n",
    "- `sequence`: a list with the containers for each sample.\n",
    "- `paramargs`: a dictionary with the parameters for the function.\n",
    "- `threads`: the number of parallel processes to run. "
   ],
   "id": "e330af3993b90a06"
  },
  {
   "metadata": {},
   "cell_type": "markdown",
   "source": "### Initial setup",
   "id": "cfcd46cf7652daf7"
  },
  {
   "metadata": {
    "ExecuteTime": {
     "end_time": "2024-06-21T14:50:09.258914Z",
     "start_time": "2024-06-21T14:50:05.946653Z"
    }
   },
   "cell_type": "code",
   "source": [
    "import pandas as pd\n",
    "import cobra\n",
    "import re\n",
    "\n",
    "from troppo.omics.readers.generic import TabularReader\n",
    "from troppo.methods_wrappers import ReconstructionWrapper\n",
    "from cobamp.utilities.parallel import batch_run"
   ],
   "id": "9b3d5875880398bb",
   "execution_count": 1,
   "outputs": []
  },
  {
   "metadata": {
    "ExecuteTime": {
     "end_time": "2024-06-21T14:50:09.273716Z",
     "start_time": "2024-06-21T14:50:09.261913Z"
    }
   },
   "cell_type": "code",
   "source": [
    "patt = re.compile('__COBAMPGPRDOT__[0-9]{1}')\n",
    "replace_alt_transcripts = lambda x: patt.sub('', x)"
   ],
   "id": "45c3419ecd330f17",
   "execution_count": 2,
   "outputs": []
  },
  {
   "metadata": {},
   "cell_type": "markdown",
   "source": "### Load the model",
   "id": "45abcc242e882dac"
  },
  {
   "metadata": {
    "ExecuteTime": {
     "end_time": "2024-06-21T14:50:28.685170Z",
     "start_time": "2024-06-21T14:50:09.277743Z"
    }
   },
   "cell_type": "code",
   "source": [
    "model = cobra.io.read_sbml_model(r'data\\HumanGEM_Consistent_COVID19_HAM.xml')\n",
    "model"
   ],
   "id": "f64bfce5a3d9b713",
   "execution_count": 3,
   "outputs": []
  },
  {
   "metadata": {
    "ExecuteTime": {
     "end_time": "2024-06-21T14:50:36.022776Z",
     "start_time": "2024-06-21T14:50:28.686785Z"
    }
   },
   "cell_type": "code",
   "source": [
    "model_wrapper = ReconstructionWrapper(model=model, ttg_ratio=9999, gpr_gene_parse_function=replace_alt_transcripts)\n",
    "model_wrapper"
   ],
   "id": "321c6fee095f2b71",
   "execution_count": 4,
   "outputs": []
  },
  {
   "metadata": {},
   "cell_type": "markdown",
   "source": "### Load the data",
   "id": "fcd239e1acf21783"
  },
  {
   "metadata": {
    "ExecuteTime": {
     "end_time": "2024-06-21T14:50:36.470494Z",
     "start_time": "2024-06-21T14:50:36.025759Z"
    }
   },
   "cell_type": "code",
   "source": [
    "omics_data = pd.read_csv(filepath_or_buffer=r'data\\Desai-GTEx_ensembl.csv', index_col=0)\n",
    "omics_data = omics_data.loc[['Lung_Healthy','Lung_COVID19']]\n",
    "omics_data"
   ],
   "id": "ad95e5dd4f1e63c3",
   "execution_count": 5,
   "outputs": []
  },
  {
   "metadata": {
    "ExecuteTime": {
     "end_time": "2024-06-21T14:50:36.501223Z",
     "start_time": "2024-06-21T14:50:36.472494Z"
    }
   },
   "cell_type": "code",
   "source": [
    "omics_container = TabularReader(path_or_df=omics_data, nomenclature='entrez_id', omics_type='transcriptomics').to_containers()\n",
    "omics_container"
   ],
   "id": "475461878b9f910e",
   "execution_count": 6,
   "outputs": []
  },
  {
   "metadata": {},
   "cell_type": "markdown",
   "source": [
    "### Define the function to run the reconstruction\n",
    "\n",
    "This function uses the `run_from_omics` method from the `ReconstructionWrapper` class. This requires the following parameters:\n",
    "\n",
    "- `omics_data`: the omics data container for the sample.\n",
    "- `algorithm`: a string containing the algorithm to use for the reconstruction.\n",
    "- `and_or_funcs`: a tuple with the functions to use for the AND and OR operations of the GPR.\n",
    "- `integration_strategy`: a tuple with the integration strategy and the function to apply to the scores.\n",
    "- `solver`: the solver to use for the optimization.\n",
    "- `**kwargs`: additional parameters for the reconstruction that are specific to used algorithm."
   ],
   "id": "15a85ee722c06710"
  },
  {
   "metadata": {
    "ExecuteTime": {
     "end_time": "2024-06-21T14:50:36.516785Z",
     "start_time": "2024-06-21T14:50:36.504226Z"
    }
   },
   "cell_type": "code",
   "source": [
    "def reconstruction_function_gimme(omics_container, parameters: dict):\n",
    "\n",
    "    def score_apply(reaction_map_scores):\n",
    "        return {k:0  if v is None else v for k, v in reaction_map_scores.items()}\n",
    "    \n",
    "    flux_threshold, obj_frac, rec_wrapper, method = [parameters[parameter] for parameter in\n",
    "                                      ['flux_threshold', 'obj_frac', 'reconstruction_wrapper', 'algorithm']]\n",
    "\n",
    "    reac_ids = rec_wrapper.model_reader.r_ids\n",
    "    metab_ids = rec_wrapper.model_reader.m_ids\n",
    "    AND_OR_FUNCS = (min, sum)    \n",
    "\n",
    "    return rec_wrapper.run_from_omics(omics_data=omics_container, algorithm=method, and_or_funcs=AND_OR_FUNCS,\n",
    "                                      integration_strategy=('continuous', score_apply), solver='CPLEX', obj_frac=obj_frac,\n",
    "                                      objectives=[{'biomass_human': 1}], preprocess=True, flux_threshold=flux_threshold,\n",
    "                                      reaction_ids=reac_ids, metabolite_ids=metab_ids)"
   ],
   "id": "f866b9c110d45294",
   "execution_count": 7,
   "outputs": []
  },
  {
   "metadata": {},
   "cell_type": "markdown",
   "source": "Considering the function above, the parameters for the reconstruction are defined in a dictionary as follows:",
   "id": "8a49c9c5746d5e91"
  },
  {
   "metadata": {
    "ExecuteTime": {
     "end_time": "2024-06-21T14:50:36.531886Z",
     "start_time": "2024-06-21T14:50:36.518296Z"
    }
   },
   "cell_type": "code",
   "source": "parameters = {'flux_threshold': 0.8, 'obj_frac': 0.8, 'reconstruction_wrapper': model_wrapper, 'algorithm': 'gimme'}",
   "id": "d9d168caf2d37e83",
   "execution_count": 8,
   "outputs": []
  },
  {
   "metadata": {},
   "cell_type": "markdown",
   "source": "### Run the `batch_run` function",
   "id": "3d1baba0a6d05f59"
  },
  {
   "metadata": {
    "ExecuteTime": {
     "end_time": "2024-06-21T14:51:22.457863Z",
     "start_time": "2024-06-21T14:50:36.533886Z"
    }
   },
   "cell_type": "code",
   "source": [
    "batch_gimme_res = batch_run(reconstruction_function_gimme, omics_container, parameters, threads=2)\n",
    "batch_gimme_res"
   ],
   "id": "bcef64f165ce0aef",
   "execution_count": 9,
   "outputs": []
  }
 ],
 "metadata": {
  "kernelspec": {
   "display_name": "Python 3",
   "language": "python",
   "name": "python3"
  },
  "language_info": {
   "codemirror_mode": {
    "name": "ipython",
    "version": 2
   },
   "file_extension": ".py",
   "mimetype": "text/x-python",
   "name": "python",
   "nbconvert_exporter": "python",
   "pygments_lexer": "ipython2",
   "version": "2.7.6"
  }
 },
 "nbformat": 4,
 "nbformat_minor": 5
}
