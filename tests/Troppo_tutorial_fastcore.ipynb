{
 "cells": [
  {
   "metadata": {},
   "cell_type": "markdown",
   "source": [
    "# How to use *FastCORE* with *Troppo*\n",
    "\n",
    "A typical workflow follows two main steps. The first is to attribute a score to each reaction of the model, in accordance with the omics data imputed. The second is to use the scores and apply an integration method to select a subset of reactions to build the final model.\n",
    "\n",
    "Integration scoring methods implemented in *Troppo* are:\n",
    "- continuous: `ContinuousScoreIntegrationStrategy`\n",
    "- threshold: `ThresholdSelectionIntegrationStrategy`\n",
    "- default_core: `DefaultCoreIntegrationStrategy`\n",
    "- adjusted_score: `AdjustedScoreIntegrationStrategy`\n",
    "- custom: `CustomSelectionIntegrationStrategy`\n",
    "\n",
    "Omics integration methods implemented in *Troppo* are:\n",
    "- gimme: `GIMME`\n",
    "- tinit: `tINIT`\n",
    "- fastcore: `FastCORE`\n",
    "- imat: `IMAT`\n",
    "- swiftcore: `SWIFTCORE`\n",
    "- corda: `CORDA`\n",
    "\n",
    "This example can be applied for all the Omics integration methods implemented in this package. Note that the appropriate integration scoring method can differ between integration algorithms. For instance, for *GIMME* a continuous scoring method can be used, while for `fastcore` a threshold scoring method is more adequate.\n",
    "\n",
    "### Imports and Setup"
   ],
   "id": "6dcfb1404f75ad68"
  },
  {
   "metadata": {
    "ExecuteTime": {
     "end_time": "2024-07-15T10:08:03.823039Z",
     "start_time": "2024-07-15T10:07:58.778476Z"
    }
   },
   "cell_type": "code",
   "source": [
    "import pandas as pd\n",
    "import cobra\n",
    "import re\n",
    "\n",
    "from troppo.omics.readers.generic import TabularReader\n",
    "from troppo.methods_wrappers import ModelBasedWrapper\n",
    "from troppo.omics.integration import CustomSelectionIntegrationStrategy\n",
    "from troppo.methods.reconstruction.fastcore import FASTcore, FastcoreProperties"
   ],
   "id": "5a39500231e6d004",
   "execution_count": 1,
   "outputs": []
  },
  {
   "metadata": {},
   "cell_type": "markdown",
   "source": "Define the parsing rules for the GPRs that will be used later on.",
   "id": "bdde12574e1c13f9"
  },
  {
   "metadata": {
    "ExecuteTime": {
     "end_time": "2024-07-15T10:08:06.201935Z",
     "start_time": "2024-07-15T10:08:06.182884Z"
    }
   },
   "cell_type": "code",
   "source": [
    "patt = re.compile('__COBAMPGPRDOT__[0-9]{1}')\n",
    "replace_alt_transcripts = lambda x: patt.sub('', x)"
   ],
   "id": "a15b886e4123b149",
   "execution_count": 2,
   "outputs": []
  },
  {
   "metadata": {},
   "cell_type": "markdown",
   "source": "### Read model and omics data",
   "id": "aa1689b55be6badc"
  },
  {
   "metadata": {
    "ExecuteTime": {
     "end_time": "2024-07-15T10:08:26.813686Z",
     "start_time": "2024-07-15T10:08:08.079113Z"
    }
   },
   "cell_type": "code",
   "source": [
    "model = cobra.io.read_sbml_model('data/HumanGEM_Consistent_COVID19_HAM.xml')\n",
    "model"
   ],
   "id": "99f5b2e8e084488a",
   "execution_count": 3,
   "outputs": []
  },
  {
   "metadata": {
    "ExecuteTime": {
     "end_time": "2024-07-15T10:08:27.464308Z",
     "start_time": "2024-07-15T10:08:26.815684Z"
    }
   },
   "cell_type": "code",
   "source": "omics_data = pd.read_csv(filepath_or_buffer='data/Desai-GTEx_ensembl.csv', index_col=0)",
   "id": "b4aef49091c8fa46",
   "execution_count": 4,
   "outputs": []
  },
  {
   "metadata": {},
   "cell_type": "markdown",
   "source": [
    "### Create a container for the omics data.\n",
    "\n",
    "The `TabularReader` class is used to read and store the omics data in a container that can then be used by *Troppo*. \n",
    "\n",
    "Relevant arguments from the `TabularReader` class:\n",
    "- `path_or_df`: the omics data can be either a pandas dataframe or a path to a dataset file. The file can be in any format supported by pandas.\n",
    "- `index_col`: the name of the column that contains the identifiers of the genes.\n",
    "- `sample_in_rows`: a boolean indicating whether the samples are in rows or columns.\n",
    "- `header_offset`: the number of rows to skip before reading the header.\n",
    "- `omics_type`: a string containing the type of omics data. This is used to select the appropriate integration method.\n",
    "- `nomenclature`: a string containing the nomenclature of the identifiers in the omics data. This is used to map the identifiers to the identifiers in the model.\n",
    "\n",
    "The `to_containers()` method returns a list of containers, one for each sample of the dataset. In this example, we will be using only one sample, however, the process can be iterated for all the samples in the dataset.\n",
    "The `get_integrated_data_map()` method is used to map the identifiers in the omics data to the identifiers in the model. This is done by using the `gpr_gene_parse_function` argument from the `ModelBasedWrapper` class."
   ],
   "id": "b083c79a390e784c"
  },
  {
   "metadata": {
    "ExecuteTime": {
     "end_time": "2024-07-15T10:08:27.557432Z",
     "start_time": "2024-07-15T10:08:27.466304Z"
    }
   },
   "cell_type": "code",
   "source": [
    "omics_container = TabularReader(path_or_df=omics_data, nomenclature='ensemble_gene_id', omics_type='transcriptomics').to_containers()[0]\n",
    "omics_container"
   ],
   "id": "fe404d5985c0564d",
   "execution_count": 5,
   "outputs": []
  },
  {
   "metadata": {},
   "cell_type": "markdown",
   "source": [
    "### Create a model wrapper.\n",
    "\n",
    "The `ModelBasedWrapper` class is used to wrap the model so that it can be used by *Troppo*.\n",
    "\n",
    "Relevant arguments from this class include:\n",
    "- `model`: the model to be wrapped.\n",
    "- `ttg_ratio`: the ratio between the number of reactions to be selected and the total number of reactions in the model.\n",
    "- `gpr_gene_parse_function`: a function that parses the GPRs of the model. This is used to map the identifiers in the omics data to the identifiers in the model.\n",
    "\n",
    "Important attributes from this class include:\n",
    "- `model_reader`: a COBRAModelObjectReader instance containing all the information of the model, such as, reaction_ids, metabolite_ids, GPRs, bounds, etc.\n",
    "- `S`: the stoichiometric matrix of the model.\n",
    "- `lb`: the lower bounds of the reactions in the model.\n",
    "- `ub`: the upper bounds of the reactions in the model."
   ],
   "id": "ffcd8f944ab40f0c"
  },
  {
   "metadata": {
    "ExecuteTime": {
     "end_time": "2024-07-15T10:08:34.518165Z",
     "start_time": "2024-07-15T10:08:27.559432Z"
    }
   },
   "cell_type": "code",
   "source": [
    "model_wrapper = ModelBasedWrapper(model=model, ttg_ratio=9999, gpr_gene_parse_function=replace_alt_transcripts)\n",
    "model_wrapper"
   ],
   "id": "faa6ee178b9f228d",
   "execution_count": 6,
   "outputs": []
  },
  {
   "metadata": {},
   "cell_type": "markdown",
   "source": [
    "### Map the identifiers in the omics data to the identifiers in the model\n",
    "\n",
    "For this we can use the `get_integrated_data_map()` method from the `TabularReader` class. This maps the gene ids in the omics dataset reaction ids in the model through their GPRs, and attributes a score to each reaction in accordance with the expression values of the associated genes. This method returns a dictionary with the reaction ids as keys and the scores as values.\n",
    "\n",
    "Important arguments from this method include:\n",
    "- `model_reader`: a COBRAModelObjectReader instance containing all the information of the model. It can be accessed through the `model_wrapper.model_reader`.\n",
    "- `and_func`: a function that is used to combine the scores of the genes associated with a reaction for AND rules in the GPR. In this example, we will be using the minimum function, which means that the score of a reaction with AND in their GPRs will be the minimum score of the genes associated with it.\n",
    "- `or_func`: a function that is used to combine the scores of the genes associated with a reaction for OR rules in the GPR. In this example, we will be using the sum function, which means that the score of a reaction with OR in their GPRs will be the sum of the scores of the genes associated with it."
   ],
   "id": "bad93c33ca772666"
  },
  {
   "metadata": {
    "ExecuteTime": {
     "end_time": "2024-07-15T10:08:34.564326Z",
     "start_time": "2024-07-15T10:08:34.520186Z"
    }
   },
   "cell_type": "code",
   "source": "data_map = omics_container.get_integrated_data_map(model_reader=model_wrapper.model_reader, and_func=min, or_func=sum)",
   "id": "38029d586af807bb",
   "execution_count": 7,
   "outputs": []
  },
  {
   "metadata": {},
   "cell_type": "markdown",
   "source": [
    "### Integrate scores\n",
    "\n",
    "The `CustomSelectionIntegrationStrategy` class allows the user to define a custom function that is tailored to the output we need for the following steps of the pipeline.\n",
    "For the `FastCORE` method the most adequate integration strategy is to select reactions whose score is above a defined threshold.\n",
    "\n",
    "This also can be achieved by using the `ThresholdSelectionIntegrationStrategy` class, however, since we also want to include a set of reaction to be protected during the integration we will use a custom method that will be defined by `integration_fx`.\n",
    "\n",
    "Moreover, through this function we also want the output to be a list with reaction IDs that will belong to the core reactions that will be inputted for the `FastCORE` algorithm.\n"
   ],
   "id": "54a7c728b1e9c570"
  },
  {
   "metadata": {
    "ExecuteTime": {
     "end_time": "2024-07-15T10:24:57.660631Z",
     "start_time": "2024-07-15T10:24:57.639955Z"
    }
   },
   "cell_type": "code",
   "source": [
    "from math import log\n",
    "threshold =  (5 * log(2))\n",
    "protected_reactions = ['biomass']\n",
    "\n",
    "def integration_fx(reaction_map_scores):\n",
    "    return [[k for k, v in reaction_map_scores.get_scores().items() if (v is not None and v > threshold) or k in protected_reactions]]\n",
    "\n",
    "threshold_integration = CustomSelectionIntegrationStrategy(group_functions=[integration_fx])\n",
    "threshold_scores = threshold_integration.integrate(data_map=data_map)\n",
    "\n",
    "print(threshold_scores)"
   ],
   "id": "cf2dc81e11b193a3",
   "execution_count": 8,
   "outputs": []
  },
  {
   "metadata": {},
   "cell_type": "markdown",
   "source": [
    "### Run the FastCORE algorithm\n",
    "\n",
    "The `FastcoreProperties` class is used to create the properties for the GIMME algorithm. This class contains the following arguments:\n",
    "- `core`: List of indexes of the reactions that are considered core, as determined by the integrated scores.\n",
    "- `flux_threshold`: Flux threshold for the algorithm.\n",
    "- `solver`: Solver to be used.\n",
    "\n",
    "The `FASTcore` class is used to run the GIMME algorithm. This class contains the following arguments:\n",
    "- `S`: the stoichiometric matrix of the model. It can be accessed through the `model_wrapper.S`.\n",
    "- `lb`: the lower bounds of the reactions in the model. It can be accessed through the `model_wrapper.lb`.\n",
    "- `ub`: the upper bounds of the reactions in the model. It can be accessed through the `model_wrapper.ub`.\n",
    "- `properties`: a `FastcoreProperties` instance containing the properties for the GIMME algorithm.\n",
    "\n",
    "In the end, the `run()` method of the `FASTcore` class will return a list with the index of the reactions to be kept in the model."
   ],
   "id": "43364bd9284a0522"
  },
  {
   "metadata": {
    "ExecuteTime": {
     "end_time": "2024-07-15T11:00:17.038619Z",
     "start_time": "2024-07-15T10:57:22.721606Z"
    }
   },
   "cell_type": "code",
   "source": [
    "# Get the index of the reaction of the CORE reaction set\n",
    "ordered_ids = {r:i for i,r in enumerate(model_wrapper.model_reader.r_ids)}\n",
    "core_idx = [[ordered_ids[k] for k in l] for l in threshold_scores]\n",
    "\n",
    "# Define the FastCORE properties\n",
    "properties = FastcoreProperties(core=core_idx, solver='CPLEX')\n",
    "\n",
    "# instantiate the FastCORE class\n",
    "fastcore = FASTcore(S=model_wrapper.S, lb=model_wrapper.lb, ub=model_wrapper.ub, properties=properties)\n",
    "\n",
    "# Run the algorithm\n",
    "model_fastcore = fastcore.run()\n",
    "\n",
    "print(model_fastcore)"
   ],
   "id": "998e9f160bf1cace",
   "execution_count": 18,
   "outputs": []
  },
  {
   "metadata": {},
   "cell_type": "markdown",
   "source": "",
   "id": "9acbd22eb8be981"
  }
 ],
 "metadata": {
  "kernelspec": {
   "display_name": "Python 3",
   "language": "python",
   "name": "python3"
  },
  "language_info": {
   "codemirror_mode": {
    "name": "ipython",
    "version": 2
   },
   "file_extension": ".py",
   "mimetype": "text/x-python",
   "name": "python",
   "nbconvert_exporter": "python",
   "pygments_lexer": "ipython2",
   "version": "2.7.6"
  }
 },
 "nbformat": 4,
 "nbformat_minor": 5
}
