{
 "cells": [
  {
   "metadata": {},
   "cell_type": "markdown",
   "source": [
    "# Gene-Level Thresholding Strategies\n",
    "\n",
    "When using a threshold integration strategy, the threshold is only applied to the score that was attributed to the reactions from the omics data.\n",
    "However, other strategies were introduced that use thresholds to access which genes are active before the integration process. \n",
    "In troppo such methods can be used through the `GeneLevelThresholding`class.\n",
    "\n",
    "This class is used to transform the dataframe containing the omics data and perform gene-level thresholding on omics\n",
    "    data. It currently supports Global and Local thresholding approaches described by Richelle, Joshi and Lewis (2019)\n",
    "    (https://doi.org/10.1371/journal.pcbi.1007185). These include:\n",
    "    \n",
    "- global: genes with a value lower than the upper global threshold (GTU) are considered inactive; genes with a value\n",
    "greater than the lower global threshold (GTL) are considered active.\n",
    "- local t1: genes with a value lower than the upper global threshold (GTU) are considered inactive; for genes\n",
    "with a value greater than the GTU, if the value is lower than the local threshold (LT), the gene is considered\n",
    "inactive, otherwise it is considered active.\n",
    "- local t2: genes with a value lower than the upper global threshold (GTU) are considered inactive; genes with\n",
    "a value greater than the lower global threshold (GTU) are considered active; for genes with a value between the GTU\n",
    "and the lower global threshold (GTL), they are only considered active if their value is greater than the local\n",
    "threshold (LT).\n",
    "\n",
    "An example of how these thresholds are applied is provided bellow.\n",
    "\n",
    "<br>\n",
    "\n",
    "<center><img src=\"img/gl_thresholding.jpg\" width=\"750\"></center> \n",
    "\n",
    "<br>\n",
    "\n",
    "Thresholds are selected in accordance with the distribution of the data. The numbers in the thresholding options\n",
    "represent the position of the value to use. Currently, the options are: [0.1, 0.25, 0.5, 0.75, 0.9];\n",
    "the threshold value will then be the value on the dataset that corresponds to that quantile.\n",
    "\n",
    "To instantiate the `GeneLevelThresholding` class the following parameters are required:\n",
    "\n",
    "- `omics_dataframe`: Omics data to be processed in a pandas dataframe format.\n",
    "- `thresholding_strat`: String containing the thresholding strategy to be used. Must be one of: global, local t1, local t2.\n",
    "- `global_threshold_lower`: Position of the Global Lower threshold value on the quantile list.\n",
    "- `global_threshold_upper`: Position of the Global Upper threshold value on the quantile list.\n",
    "- `local_threshold`: Position of the Local threshold value on the quantile list.\n",
    "\n",
    "To apply the transformation to the data the `apply_thresholding_filter` method must be called."
   ],
   "id": "e1ed898b09af169f"
  },
  {
   "metadata": {},
   "cell_type": "markdown",
   "source": "### Imports",
   "id": "d27032078dbacca0"
  },
  {
   "metadata": {
    "ExecuteTime": {
     "end_time": "2024-07-16T12:41:03.467440Z",
     "start_time": "2024-07-16T12:41:00.827455Z"
    }
   },
   "cell_type": "code",
   "source": [
    "import pandas as pd\n",
    "from troppo.omics import GeneLevelThresholding"
   ],
   "id": "a4d821dcb9ed318a",
   "outputs": [
    {
     "name": "stderr",
     "output_type": "stream",
     "text": [
      "C:\\Users\\biosy\\anaconda3\\envs\\s2m2\\lib\\site-packages\\cobamp\\wrappers\\external_wrappers.py:12: UserWarning: \n",
      "The wrappers.external_wrappers module will be deprecated in a future release in favour of the wrappers module. \n",
      "    Available ModelObjectReader classes can still be loaded using cobamp.wrappers.<class>. An appropriate model \n",
      "    reader can also be created using the get_model_reader function on cobamp.wrappers\n",
      "  reader can also be created using the get_model_reader function on cobamp.wrappers''')\n"
     ]
    }
   ],
   "execution_count": 1
  },
  {
   "metadata": {},
   "cell_type": "markdown",
   "source": "### Read Omics Data",
   "id": "8e3ccfb6807f1249"
  },
  {
   "metadata": {
    "ExecuteTime": {
     "end_time": "2024-07-16T13:22:23.122856Z",
     "start_time": "2024-07-16T13:22:22.587377Z"
    }
   },
   "cell_type": "code",
   "source": "omics_data = pd.read_csv(filepath_or_buffer='data/Desai-GTEx_ensembl.csv', index_col=0)",
   "id": "5da7dad2816b75e2",
   "outputs": [],
   "execution_count": 6
  },
  {
   "metadata": {},
   "cell_type": "markdown",
   "source": "### Apply Gene-level Thresholding",
   "id": "857dd0f735c10a6c"
  },
  {
   "metadata": {
    "ExecuteTime": {
     "end_time": "2024-07-16T14:52:57.178345Z",
     "start_time": "2024-07-16T14:52:56.690556Z"
    }
   },
   "cell_type": "code",
   "source": [
    "threshold = GeneLevelThresholding(omics_dataframe=omics_data,\n",
    "                                  thresholding_strat='local t2', \n",
    "                                  global_threshold_lower=1,\n",
    "                                  global_threshold_upper=3,\n",
    "                                  local_threshold=2)\n",
    "\n",
    "new_omics_data = threshold.apply_thresholding_filter()"
   ],
   "id": "503892a5f792d72",
   "outputs": [],
   "execution_count": 9
  },
  {
   "metadata": {},
   "cell_type": "code",
   "outputs": [],
   "execution_count": null,
   "source": "",
   "id": "b0eccc9061339bea"
  }
 ],
 "metadata": {
  "kernelspec": {
   "display_name": "Python 3",
   "language": "python",
   "name": "python3"
  },
  "language_info": {
   "codemirror_mode": {
    "name": "ipython",
    "version": 2
   },
   "file_extension": ".py",
   "mimetype": "text/x-python",
   "name": "python",
   "nbconvert_exporter": "python",
   "pygments_lexer": "ipython2",
   "version": "2.7.6"
  }
 },
 "nbformat": 4,
 "nbformat_minor": 5
}
