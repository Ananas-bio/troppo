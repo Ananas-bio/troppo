{
 "cells": [
  {
   "cell_type": "markdown",
   "id": "00180da5",
   "metadata": {
    "collapsed": true,
    "jupyter": {
     "outputs_hidden": true
    }
   },
   "source": [
    "# How to use *iMAT* with *Troppo*\n",
    "\n",
    "A typical workflow follows two main steps. The first is to attribute a score to each reaction of the model, in accordance with the omics data imputed. The second is to use the scores and apply an integration method to select a subset of reactions to build the final model.\n",
    "\n",
    "Integration scoring methods implemented in *Troppo* are:\n",
    "- continuous: `ContinuousScoreIntegrationStrategy`\n",
    "- threshold: `ThresholdSelectionIntegrationStrategy`\n",
    "- default_core: `DefaultCoreIntegrationStrategy`\n",
    "- adjusted_score: `AdjustedScoreIntegrationStrategy`\n",
    "- custom: `CustomSelectionIntegrationStrategy`\n",
    "\n",
    "Omics integration methods implemented in *Troppo* are:\n",
    "- gimme: `GIMME`\n",
    "- tinit: `tINIT`\n",
    "- fastcore: `fastCORE`\n",
    "- imat: `IMAT`\n",
    "- swiftcore: `SWIFTCORE`\n",
    "- corda: `CORDA`\n",
    "\n",
    "This example can be applied for all the Omics integration methods implemented in this package. Note that the appropriate integration scoring method can differ between integration algorithms. For instance, for *GIMME* a continuous scoring method can be used, while for `fastcore` a threshold scoring method is more adequate.\n",
    "\n",
    "### Imports and Setup"
   ]
  },
  {
   "cell_type": "code",
   "id": "890101d30cf1fe37",
   "metadata": {
    "ExecuteTime": {
     "end_time": "2024-07-09T14:05:27.631647Z",
     "start_time": "2024-07-09T14:05:22.826661Z"
    }
   },
   "source": [
    "import pandas as pd\n",
    "import cobra\n",
    "import re\n",
    "\n",
    "from troppo.omics.readers.generic import TabularReader\n",
    "from troppo.methods_wrappers import ModelBasedWrapper\n",
    "from troppo.omics.integration import ContinuousScoreIntegrationStrategy\n",
    "from troppo.methods.reconstruction.imat import IMAT, IMATProperties"
   ],
   "execution_count": 1,
   "outputs": []
  },
  {
   "cell_type": "markdown",
   "id": "1a75f7d6a47fda8b",
   "metadata": {},
   "source": [
    "Define the parsing rules for the GPRs that will be used later on."
   ]
  },
  {
   "cell_type": "code",
   "id": "47487d35d3894174",
   "metadata": {
    "ExecuteTime": {
     "end_time": "2024-07-09T14:05:27.647620Z",
     "start_time": "2024-07-09T14:05:27.636567Z"
    }
   },
   "source": [
    "patt = re.compile('__COBAMPGPRDOT__[0-9]{1}')\n",
    "replace_alt_transcripts = lambda x: patt.sub('', x)"
   ],
   "execution_count": 2,
   "outputs": []
  },
  {
   "cell_type": "markdown",
   "id": "b2fa56f4053f8b2c",
   "metadata": {},
   "source": [
    "### Read model and omics data"
   ]
  },
  {
   "cell_type": "code",
   "id": "63c8fd0b2d331dd6",
   "metadata": {
    "ExecuteTime": {
     "end_time": "2024-07-09T14:05:51.089946Z",
     "start_time": "2024-07-09T14:05:27.650620Z"
    }
   },
   "source": [
    "model = cobra.io.read_sbml_model('data/HumanGEM_Consistent_COVID19_HAM.xml')\n",
    "model"
   ],
   "execution_count": 3,
   "outputs": []
  },
  {
   "cell_type": "code",
   "id": "57d953123b778a92",
   "metadata": {
    "ExecuteTime": {
     "end_time": "2024-07-09T14:05:51.675902Z",
     "start_time": "2024-07-09T14:05:51.092456Z"
    }
   },
   "source": "omics_data = pd.read_csv(filepath_or_buffer='data/Desai-GTEx_ensembl.csv', index_col=0)",
   "execution_count": 4,
   "outputs": []
  },
  {
   "cell_type": "markdown",
   "id": "aa8c68ce51d34ed6",
   "metadata": {},
   "source": [
    "### Create a container for the omics data.\n",
    "\n",
    "The `TabularReader` class is used to read and store the omics data in a container that can then be used by *Troppo*. \n",
    "\n",
    "Relevant arguments from the `TabularReader` class:\n",
    "- `path_or_df`: the omics data can be either a pandas dataframe or a path to a dataset file. The file can be in any format supported by pandas.\n",
    "- `index_col`: the name of the column that contains the identifiers of the genes.\n",
    "- `sample_in_rows`: a boolean indicating whether the samples are in rows or columns.\n",
    "- `header_offset`: the number of rows to skip before reading the header.\n",
    "- `omics_type`: a string containing the type of omics data. This is used to select the appropriate integration method.\n",
    "- `nomenclature`: a string containing the nomenclature of the identifiers in the omics data. This is used to map the identifiers to the identifiers in the model.\n",
    "\n",
    "The `to_containers()` method returns a list of containers, one for each sample of the dataset. In this example, we will be using only one sample, however, the process can be iterated for all the samples in the dataset.\n",
    "The `get_integrated_data_map()` method is used to map the identifiers in the omics data to the identifiers in the model. This is done by using the `gpr_gene_parse_function` argument from the `ModelBasedWrapper` class."
   ]
  },
  {
   "cell_type": "code",
   "id": "efe48c255809d19",
   "metadata": {
    "ExecuteTime": {
     "end_time": "2024-07-09T14:05:51.801933Z",
     "start_time": "2024-07-09T14:05:51.678929Z"
    }
   },
   "source": [
    "omics_container = TabularReader(path_or_df=omics_data, nomenclature='ensemble_gene_id', omics_type='transcriptomics').to_containers()[0]\n",
    "omics_container"
   ],
   "execution_count": 5,
   "outputs": []
  },
  {
   "cell_type": "markdown",
   "id": "fb7c15076617bc",
   "metadata": {},
   "source": [
    "### Create a model wrapper.\n",
    "\n",
    "The `ModelBasedWrapper` class is used to wrap the model so that it can be used by *Troppo*.\n",
    "\n",
    "Relevant arguments from this class include:\n",
    "- `model`: the model to be wrapped.\n",
    "- `ttg_ratio`: the ratio between the number of reactions to be selected and the total number of reactions in the model.\n",
    "- `gpr_gene_parse_function`: a function that parses the GPRs of the model. This is used to map the identifiers in the omics data to the identifiers in the model.\n",
    "\n",
    "Important attributes from this class include:\n",
    "- `model_reader`: a COBRAModelObjectReader instance containing all the information of the model, such as, reaction_ids, metabolite_ids, GPRs, bounds, etc.\n",
    "- `S`: the stoichiometric matrix of the model.\n",
    "- `lb`: the lower bounds of the reactions in the model.\n",
    "- `ub`: the upper bounds of the reactions in the model."
   ]
  },
  {
   "cell_type": "code",
   "id": "4b07f3c09e4ac1f5",
   "metadata": {
    "ExecuteTime": {
     "end_time": "2024-07-09T14:06:01.379685Z",
     "start_time": "2024-07-09T14:05:51.803691Z"
    }
   },
   "source": [
    "model_wrapper = ModelBasedWrapper(model=model, ttg_ratio=9999, gpr_gene_parse_function=replace_alt_transcripts)\n",
    "model_wrapper"
   ],
   "execution_count": 6,
   "outputs": []
  },
  {
   "cell_type": "markdown",
   "id": "cb3c5455985d526f",
   "metadata": {},
   "source": [
    "### Map the identifiers in the omics data to the identifiers in the model\n",
    "\n",
    "For this we can use the `get_integrated_data_map()` method from the `TabularReader` class. This maps the gene ids in the omics dataset reaction ids in the model through their GPRs, and attributes a score to each reaction in accordance with the expression values of the associated genes. This method returns a dictionary with the reaction ids as keys and the scores as values.\n",
    "\n",
    "Important arguments from this method include:\n",
    "- `model_reader`: a COBRAModelObjectReader instance containing all the information of the model. It can be accessed through the `model_wrapper.model_reader`.\n",
    "- `and_func`: a function that is used to combine the scores of the genes associated with a reaction for AND rules in the GPR. In this example, we will be using the minimum function, which means that the score of a reaction with AND in their GPRs will be the minimum score of the genes associated with it.\n",
    "- `or_func`: a function that is used to combine the scores of the genes associated with a reaction for OR rules in the GPR. In this example, we will be using the sum function, which means that the score of a reaction with OR in their GPRs will be the sum of the scores of the genes associated with it."
   ]
  },
  {
   "cell_type": "code",
   "id": "a132daf9d60bc941",
   "metadata": {
    "ExecuteTime": {
     "end_time": "2024-07-09T14:06:01.442581Z",
     "start_time": "2024-07-09T14:06:01.381685Z"
    }
   },
   "source": "data_map = omics_container.get_integrated_data_map(model_reader=model_wrapper.model_reader, and_func=min, or_func=sum)",
   "execution_count": 7,
   "outputs": []
  },
  {
   "metadata": {},
   "cell_type": "markdown",
   "source": [
    "### Integrate scores\n",
    "\n",
    "The `integrate()` method from the `ContinuousScoreIntegrationStrategy` class is used to integrate the scores of the reactions in the model. This method returns a dictionary with the reaction ids as keys and the integrated scores as values. In the case of this continuous scoring method, the resulting scores are the same as the scores in the data map. However, for other scoring methods, such as threshold scoring methods, the result will be a list of reactions with a score above the selected threshold. \n",
    "\n",
    "Moreover, this method allows us to apply an additional function to the method, which can be useful if you have any protected reactions that need to be in the final model or to remove nan values from the result. This can be done by passing the function as the `score_apply` argument of the `ContinuousScoreIntegrationStrategy` class. \n",
    "\n",
    "In this example, we will be using a function that replaces the nan values with 0 and returns a list with all the scores. This is the required format for the *iMAT* method."
   ],
   "id": "8755d8bf2c5cee8c"
  },
  {
   "metadata": {
    "ExecuteTime": {
     "end_time": "2024-07-09T14:06:01.472725Z",
     "start_time": "2024-07-09T14:06:01.445586Z"
    }
   },
   "cell_type": "code",
   "source": [
    "def score_apply(reaction_map_scores):\n",
    "    return [0 if v is None else v for k, v in reaction_map_scores.items()]\n",
    "\n",
    "continuous_integration = ContinuousScoreIntegrationStrategy(score_apply=score_apply)\n",
    "scores = continuous_integration.integrate(data_map=data_map)\n",
    "\n",
    "print(scores)"
   ],
   "id": "5ae266947ccac63",
   "execution_count": 8,
   "outputs": []
  },
  {
   "cell_type": "markdown",
   "id": "e3fbb184ab7f3d2f",
   "metadata": {},
   "source": [
    "### Run the iMAT algorithm\n",
    "\n",
    "The `IMATProperties` class is used to create the properties for the iMAT algorithm. This class contains the following arguments:\n",
    "- `exp_vector`: a list of scores for each reaction in the model. This can be obtained from the `integrate()` method of the `ContinuousScoreIntegrationStrategy` class.\n",
    "- `exp_thresholds`: The thresholds for the expression values.\n",
    "- `core`: The core reactions, by default None.\n",
    "- `tolerance`: The tolerance, by default 1e-8.\n",
    "- `epsilon`: The epsilon, by default 1.\n",
    "\n",
    "The `IMAT` class is used to run the iMAT algorithm. This class contains the following arguments:\n",
    "- `S`: the stoichiometric matrix of the model. It can be accessed through the `model_wrapper.S`.\n",
    "- `lb`: the lower bounds of the reactions in the model. It can be accessed through the `model_wrapper.lb`.\n",
    "- `ub`: the upper bounds of the reactions in the model. It can be accessed through the `model_wrapper.ub`.\n",
    "- `properties`: a `IMATProperties` instance containing the properties for the iMAT algorithm.\n",
    "\n",
    "In the end, the `run()` method of the `IMAT` class will return a list with the indexes of the reactions to be kept in the final model."
   ]
  },
  {
   "cell_type": "code",
   "id": "1707b35044867990",
   "metadata": {
    "jupyter": {
     "is_executing": true
    },
    "ExecuteTime": {
     "start_time": "2024-07-09T14:06:01.474734Z"
    }
   },
   "source": [
    "# Create the properties for the IMAT algorithm.\n",
    "properties = IMATProperties(exp_vector=scores, exp_thresholds=(0.2,0.5))\n",
    "\n",
    "# Run the iMAT algorithm.\n",
    "imat = IMAT(S=model_wrapper.S, lb=model_wrapper.lb, ub=model_wrapper.ub, properties=properties)\n",
    "\n",
    "model_imat = imat.run()\n",
    "\n",
    "print(model_imat)"
   ],
   "execution_count": null,
   "outputs": []
  }
 ],
 "metadata": {
  "kernelspec": {
   "display_name": "Python 3 (ipykernel)",
   "language": "python",
   "name": "python3"
  },
  "language_info": {
   "codemirror_mode": {
    "name": "ipython",
    "version": 3
   },
   "file_extension": ".py",
   "mimetype": "text/x-python",
   "name": "python",
   "nbconvert_exporter": "python",
   "pygments_lexer": "ipython3",
   "version": "3.8.19"
  }
 },
 "nbformat": 4,
 "nbformat_minor": 5
}
