{
 "cells": [
  {
   "metadata": {},
   "cell_type": "markdown",
   "source": "# Task performance evaluation",
   "id": "fc12ca7ab83ed0e4"
  },
  {
   "metadata": {},
   "cell_type": "markdown",
   "source": [
    "*Troppo* includes a module that allows for the evaluation of metabolic tasks performance.\n",
    "The class responsible for this is called `TaskEvaluator`.\n",
    "This class is a wrapper around a model that allows the evaluation of tasks on the model. It can be used to evaluate a single task, or to evaluate a batch of tasks on a batch of models.\n",
    "\n",
    "To initialize a `TaskEvaluator` object, you need to pass a model object and the tasks to evaluate.\n",
    "The tasks should be instances of the `Task` class, which is a simple data structure that contains the following fields:\n",
    "\n",
    "\n",
    "- `reaction_dict`: a dictionary with the reaction identifiers as keys and a dictionary with the metabolites and their respective stoichiometry as values. (eg. rxd = {'r1':({'m1':-1, 'm2':2}, (lb, ub)), ... })\n",
    "- `inflow_dict`: a dictionary with the metabolite identifiers as keys and the inflow rate as values. (eg. inflow = {'m1':(1, 1), ... })\n",
    "- `outflow_dict`: a dictionary with the metabolite identifiers as keys and the outflow rate as values. (eg. outflow = {'m5':(5, 5), ... })"
   ],
   "id": "46f7752cbc5032e"
  },
  {
   "metadata": {},
   "cell_type": "markdown",
   "source": "### Imports",
   "id": "e9c7574a9b1a0bec"
  },
  {
   "metadata": {
    "ExecuteTime": {
     "end_time": "2024-06-20T13:41:14.615653Z",
     "start_time": "2024-06-20T13:41:14.597375Z"
    }
   },
   "cell_type": "code",
   "source": [
    "from troppo.tasks.core import TaskEvaluator\n",
    "from troppo.tasks.task_io import JSONTaskIO\n",
    "import pandas as pd\n",
    "from json import JSONEncoder, JSONDecoder\n",
    "from cobamp.utilities.parallel import batch_run\n",
    "from cobra.io import read_sbml_model\n",
    "\n",
    "from numpy import log\n",
    "import re"
   ],
   "id": "78e1595c39d9a39f",
   "execution_count": 2,
   "outputs": []
  },
  {
   "metadata": {},
   "cell_type": "markdown",
   "source": "### Initial setup",
   "id": "13ed64f14054d346"
  },
  {
   "metadata": {
    "ExecuteTime": {
     "end_time": "2024-06-20T13:43:24.126653Z",
     "start_time": "2024-06-20T13:41:39.388391Z"
    }
   },
   "cell_type": "code",
   "source": [
    "#load the model\n",
    "task_model = read_sbml_model('data/Recon3D_301_consistent.xml')\n",
    "task_model"
   ],
   "id": "aa1653ea1c91fd36",
   "execution_count": 4,
   "outputs": []
  },
  {
   "metadata": {
    "ExecuteTime": {
     "end_time": "2024-06-20T13:43:26.415535Z",
     "start_time": "2024-06-20T13:43:24.130657Z"
    }
   },
   "cell_type": "code",
   "source": [
    "#load the reconstruction results as a dictionary\n",
    "fastcore_res_dict = pd.read_csv('data/r3d_compact_ccle_bc_fastcore.csv', index_col=[0, 1]).T.to_dict()\n",
    "\n",
    "#get only first sample\n",
    "sample = list(fastcore_res_dict.keys())[0]\n",
    "fastcore_res_dict = {sample: fastcore_res_dict[sample]}\n",
    "fastcore_res_dict"
   ],
   "id": "fd1384c462431bf3",
   "execution_count": 5,
   "outputs": []
  },
  {
   "metadata": {
    "ExecuteTime": {
     "end_time": "2024-06-20T13:43:46.689383Z",
     "start_time": "2024-06-20T13:43:45.927737Z"
    }
   },
   "cell_type": "code",
   "source": [
    "# parse tasks from a previously existing JSON\n",
    "# the supplied file contains tasks adapted from the publication of Richelle et. al, 2019\n",
    "TASKS_PATH = 'data/nl2019_tasks_r3d_compact.json'\n",
    "task_list = [t for t in JSONTaskIO().read_task(TASKS_PATH) if len((set(t.inflow_dict) |\n",
    "             set(t.outflow_dict)) - set([m.id for m in task_model.metabolites])) == 0]\n",
    "task_list"
   ],
   "id": "9f08ab98a2a173e8",
   "execution_count": 6,
   "outputs": []
  },
  {
   "metadata": {
    "ExecuteTime": {
     "end_time": "2024-06-20T13:44:42.204060Z",
     "start_time": "2024-06-20T13:44:42.179967Z"
    }
   },
   "cell_type": "code",
   "source": [
    "for task in task_list:\n",
    "    task.inflow_dict = {k: v if k not in task.outflow_dict.keys() else [-1000, 1000] for k, v in\n",
    "                        task.inflow_dict.items()}\n",
    "    task.outflow_dict = {k: v for k, v in task.outflow_dict.items()\n",
    "                         if k not in task.inflow_dict.items()}\n",
    "for task in task_list:\n",
    "    task.mandatory_activity = []\n",
    "\n",
    "task_list"
   ],
   "id": "137948c8b1efe82",
   "execution_count": 7,
   "outputs": []
  },
  {
   "metadata": {
    "ExecuteTime": {
     "end_time": "2024-06-20T13:45:15.077360Z",
     "start_time": "2024-06-20T13:45:13.559418Z"
    }
   },
   "cell_type": "code",
   "source": [
    " # tasks should be evaluated without open boundary reactions. We can easily close them on\n",
    "# the COBRA model\n",
    "for k in task_model.boundary:\n",
    "    k.knock_out()\n",
    "\n",
    "# get the names of all reactions in the model - this will be useful further on\n",
    "all_reactions = set([r.id for r in task_model.reactions])\n",
    "\n",
    "all_reactions"
   ],
   "id": "dba7a6f4e3bae675",
   "execution_count": 8,
   "outputs": []
  },
  {
   "metadata": {},
   "cell_type": "markdown",
   "source": "### Evaluate a set of tasks",
   "id": "6b64606fff759e9"
  },
  {
   "metadata": {
    "ExecuteTime": {
     "end_time": "2024-06-20T13:50:14.418796Z",
     "start_time": "2024-06-20T13:46:01.292420Z"
    }
   },
   "cell_type": "code",
   "source": [
    "# create a structure to hold all of these results - a dictionary\n",
    "task_eval_results = {}\n",
    "\n",
    "# for each k (tuple with algorithm and sample information) and result (dict with reaction presences)\n",
    "for k, result in fastcore_res_dict.items():\n",
    "    # using with statements to change the COBRA model temporarily\n",
    "    # this is done to knock-out reaction not appearing the FASTCORE result\n",
    "    with task_model as context_specific_model:\n",
    "        # get reactions included in the sample-specific model\n",
    "        protected = set([k for k, v in result.items() if v])\n",
    "        # get reactions except the protected ones\n",
    "        to_remove = all_reactions - protected\n",
    "        for rid in to_remove:\n",
    "            # knock-out reactions not in the model\n",
    "            context_specific_model.reactions.get_by_id(rid).knock_out()\n",
    "\n",
    "        # create a task evaluator instance with the context specific model and the supplied\n",
    "        # task list and solver\n",
    "        task_eval = TaskEvaluator(model=context_specific_model, tasks=task_list, solver='CPLEX')\n",
    "\n",
    "        # get task names (for future reference)\n",
    "        task_names = task_eval.tasks\n",
    "\n",
    "        # use the batch_function from the TaskEvaluator class (takes the name of a loaded task,\n",
    "        # a params dictionary with the task evaluator associated to the 'tev' key) and set the\n",
    "        # amount of threads to be used\n",
    "        batch_res_tasks = batch_run(TaskEvaluator.batch_function, task_names,\n",
    "                                    {'tev': task_eval}, threads=1)\n",
    "    # each element in the list of results in batch_res_tasks is a tuple of length 3:\n",
    "    # 0 - boolean flag representing the task evaluation\n",
    "    # 1 - Solution instance used to evaluate the task\n",
    "    # 2 - A dictionary with reactions supposed to be active mapped to True/False\n",
    "    # according to that criterion\n",
    "\n",
    "    # keep only items 0 and 2 of the task result - we don't need the flux distribution\n",
    "    task_csm_res = {k: (v[0], v[2]) for k, v in dict(zip(task_names, batch_res_tasks)).items()}\n",
    "    print(k, len(protected), len([v for k, v in task_csm_res.items() if v[0]]), 'tasks completed.')\n",
    "    # assign this dictionary to it's sample on the master results dictionary\n",
    "    task_eval_results[k] = task_csm_res"
   ],
   "id": "228ede2dfe6aa3f0",
   "execution_count": 10,
   "outputs": []
  },
  {
   "metadata": {
    "ExecuteTime": {
     "end_time": "2024-06-20T13:51:10.050513Z",
     "start_time": "2024-06-20T13:51:10.039451Z"
    }
   },
   "cell_type": "code",
   "source": [
    "# save these results for later analysis as a JSON file\n",
    "with open('data/r3d_compact_task_results_ccle_bc_new_nodrains_only_feas.json', 'w') as f:\n",
    "    f.write(JSONEncoder().encode([(k, v) for k, v in task_eval_results.items()]))"
   ],
   "id": "53380fc2a43729f2",
   "execution_count": 12,
   "outputs": []
  },
  {
   "metadata": {},
   "cell_type": "code",
   "execution_count": null,
   "source": "",
   "id": "3d2b9893c7d25286",
   "outputs": []
  }
 ],
 "metadata": {
  "kernelspec": {
   "display_name": "Python 3",
   "language": "python",
   "name": "python3"
  },
  "language_info": {
   "codemirror_mode": {
    "name": "ipython",
    "version": 2
   },
   "file_extension": ".py",
   "mimetype": "text/x-python",
   "name": "python",
   "nbconvert_exporter": "python",
   "pygments_lexer": "ipython2",
   "version": "2.7.6"
  }
 },
 "nbformat": 4,
 "nbformat_minor": 5
}
