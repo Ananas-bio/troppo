{
 "cells": [
  {
   "cell_type": "code",
   "execution_count": 1,
   "metadata": {
    "ExecuteTime": {
     "end_time": "2023-08-04T09:16:52.456008700Z",
     "start_time": "2023-08-04T09:16:49.510354700Z"
    }
   },
   "source": [
    "import sys;sys.path.extend(['E:\\\\reconstruction', 'E:\\\\cobamp', 'E:\\\\reconstruction\\\\src', 'E:\\\\cobamp\\\\src', 'E:/reconstruction'])\n",
    "import cobra\n",
    "import framed\n",
    "import cobamp\n",
    "import pandas as pd\n",
    "import numpy as np\n",
    "import pickle\n",
    "import scipy as sci\n",
    "\n",
    "# for testing the algorithms\n",
    "from cobamp.wrappers import MatFormatReader\n",
    "from cobamp.wrappers import COBRAModelObjectReader\n",
    "from troppo.methods.imat import IMAT\n",
    "from troppo.methods.gimme import GIMME\n",
    "from troppo.methods.tINIT import tINIT\n",
    "from troppo.methods.fastcore import FASTcore\n",
    "from troppo.reconstruction_properties import FastcoreProperties, tINITProperties, GIMMEProperties, IMATProperties\n",
    "from troppo.utilities.statistics import normalize, z_score"
   ],
   "outputs": []
  },
  {
   "cell_type": "markdown",
   "metadata": {},
   "source": [
    "Here we are going to import the .mat file used for testing in the MATLAB COBRA package and will serve as basis for all the analysis and load some help functions to process the data"
   ]
  },
  {
   "cell_type": "code",
   "execution_count": 2,
   "metadata": {},
   "source": [
    "def load_glial_data(path):\n",
    "    data = pd.read_csv(path, index_col=0)\n",
    "    normalized_data = normalize(data)\n",
    "    z = None\n",
    "\n",
    "    return normalized_data, z\n",
    "\n",
    "def get_index_core(reactions_ids, data, threshold):\n",
    "    rx_names = data.index[data['0'] > threshold].tolist()\n",
    "    index_core = [np.where(reactions_ids == r)[0][0] for r in rx_names]\n",
    "    return index_core, rx_names\n",
    "\n",
    "def get_index_values():\n",
    "    pass"
   ],
   "outputs": []
  },
  {
   "cell_type": "code",
   "execution_count": 3,
   "metadata": {},
   "source": [
    "mat = sci.io.loadmat('./tests/FastCoreTest.mat')['ConsistentRecon2']\n",
    "model_cobra = cobra.io.load_matlab_model('./tests/FastCoreTest.mat')"
   ],
   "outputs": []
  },
  {
   "cell_type": "code",
   "execution_count": 22,
   "metadata": {},
   "source": [
    "len(model_cobra.reactions)"
   ],
   "outputs": []
  },
  {
   "cell_type": "markdown",
   "metadata": {},
   "source": [
    "Since the .mat file contains all the information needed for the TROPPO package to work (the S matrix, lower and upper bounds), we are going to parse it"
   ]
  },
  {
   "cell_type": "code",
   "execution_count": 4,
   "metadata": {},
   "source": [
    "model = MatFormatReader(mat)\n",
    "S = model.S\n",
    "lb, ub = model.get_model_bounds(False, True)\n",
    "rx_names = model.get_reaction_and_metabolite_ids()[0]"
   ],
   "outputs": []
  },
  {
   "cell_type": "markdown",
   "metadata": {},
   "source": [
    "Since the algorithms need expression data to begin the pruning of the original model, we are going to import data from glial cells (complete the rest of the story here).\n",
    "We are also going to make different inputs accordingly to the needs of the algorithms that are goint to be tested."
   ]
  },
  {
   "cell_type": "code",
   "execution_count": 5,
   "metadata": {},
   "source": [
    "original_data,_ = load_glial_data('./tests/glioma_data/grade2_calls.csv') # import of the omics data before/after preprocessing\n",
    "core, names_core = get_index_core(np.array(model.r_ids), original_data, 0.9) # this is for the FASTCORE algorithm\n",
    "reactions_scores = original_data.fillna(0) # this is the input for tINIT; reactions with NaN for score were replaced with the score of 0\n",
    "gimme_data = original_data.fillna(-1) #GIMME; reactions without expression values are not considered for the algorithm\n",
    "iMAT_data = original_data.fillna((0.2+0.5)/2)#iMAT; fillna is used with the mean of both thresholds\n",
    "# CORDA data"
   ],
   "outputs": []
  },
  {
   "cell_type": "markdown",
   "metadata": {},
   "source": [
    "From here, we are going to test the already implement algorithms for tissue reconstruction. "
   ]
  },
  {
   "cell_type": "markdown",
   "metadata": {},
   "source": [
    "First, we are going to be testing the FASTcore algorithm"
   ]
  },
  {
   "cell_type": "code",
   "execution_count": 6,
   "metadata": {},
   "source": [
    "fastcore = FASTcore(S, lb, ub, FastcoreProperties(solver = 'CPLEX', core=core))\n",
    "tissue_reactions = fastcore.fastcore()"
   ],
   "outputs": []
  },
  {
   "cell_type": "code",
   "execution_count": 8,
   "metadata": {},
   "source": [
    "model_fastcore = model_cobra.copy() # this is done since it alters the original model_cobra; this way is to guarantee that a new model is changed instead of the original model\n",
    "r_ids = [r.id for r in model_fastcore.reactions]\n",
    "model_fastcore.remove_reactions([r_ids[r] for r in tissue_reactions],True) # this is to get the ids of the reactions to be removed in the model; True is to remove the pending genes/metabolites that with the removal of the reaction can no longer be connected in the network"
   ],
   "outputs": []
  },
  {
   "cell_type": "markdown",
   "metadata": {},
   "source": [
    "With the FASTcore algorithm, we obtained a model with 4134 reactions, 1345 genes and 2458 metabolites, not capable of producing biomass."
   ]
  },
  {
   "cell_type": "code",
   "execution_count": 18,
   "metadata": {},
   "source": [
    "print('Genes: ' + str(len(model_fastcore.genes)))\n",
    "print('Metabolites: ' + str(len(model_fastcore.metabolites)))\n",
    "print('Reactions: ' + str(len(model_fastcore.reactions)))\n",
    "print(model_fastcore.objective._get_expression())\n",
    "print(model_fastcore.optimize())"
   ],
   "outputs": []
  },
  {
   "cell_type": "markdown",
   "metadata": {},
   "source": [
    "Now we're going to test the tINIT algorithm. For this case, as an input we are going to only provide reactions scores. The other properties of the algorithm are set to default (including the solver)."
   ]
  },
  {
   "cell_type": "code",
   "execution_count": 7,
   "metadata": {
    "scrolled": true
   },
   "source": [
    "tinit = tINIT(S, np.array(lb), np.array(ub),\n",
    "          tINITProperties(reactions_scores=list(reactions_scores['0']), present_metabolites=[], essential_reactions=[],\n",
    "                          production_weight=0.5, allow_excretion=False, no_reverse_loops=False, solver = \"GUROBI\"))\n",
    "reactions_to_remove_from_the_model = tinit.run_tINIT()"
   ],
   "outputs": []
  },
  {
   "cell_type": "code",
   "execution_count": 41,
   "metadata": {
    "scrolled": true
   },
   "source": [
    "reactions_to_remove_from_the_model = np.unique(np.int_(reactions_to_remove_from_the_model)).tolist()\n",
    "model_tINIT = model_cobra.copy() # this is done since it alters the original model_cobra; this way is to guarantee that a new model is changed instead of the original model\n",
    "r_ids = [r.id for r in model_tINIT.reactions]\n",
    "to_remove_ids = [r_ids[r] for r in reactions_to_remove_from_the_model]\n",
    "model_tINIT.remove_reactions(to_remove_ids,True) # this is to get the ids of the reactions to be removed in the model; True is to remove the pending genes/metabolites that with the removal of the reaction can no longer be connected in the network"
   ],
   "outputs": []
  },
  {
   "cell_type": "code",
   "execution_count": 42,
   "metadata": {},
   "source": [
    "print('Genes: ' + str(len(model_tINIT.genes)))\n",
    "print('Metabolites: ' + str(len(model_tINIT.metabolites)))\n",
    "print('Reactions: ' + str(len(model_tINIT.reactions)))\n",
    "print(model_tINIT.objective._get_expression())\n",
    "print(model_tINIT.optimize())"
   ],
   "outputs": []
  },
  {
   "cell_type": "markdown",
   "metadata": {},
   "source": [
    "With the tINIT algorithm, we obtained X specific reactions for the data provided, generatung a model with X reactions, Y genes and Z metabolites, capable (or not) of producing biomass."
   ]
  },
  {
   "cell_type": "markdown",
   "metadata": {},
   "source": [
    "For the CORDA algorithm, we needed four different types of sets of reactions (input_data3, input_data3_1, input_data3_2, input_data3_3). "
   ]
  },
  {
   "cell_type": "code",
   "execution_count": 1,
   "metadata": {
    "collapsed": true
   },
   "source": [
    "# code for the CORDA test\n"
   ],
   "outputs": []
  },
  {
   "cell_type": "markdown",
   "metadata": {},
   "source": [
    "Regarding the CORDA reconstructed model, it has X reactions, Y genes and Z metabolites, and also capable(or not) of producing biomass"
   ]
  },
  {
   "cell_type": "markdown",
   "metadata": {},
   "source": [
    "For GIMME, we apply a threshold to the expression values originally from the expression dataset."
   ]
  },
  {
   "cell_type": "code",
   "execution_count": 37,
   "metadata": {
    "scrolled": false
   },
   "source": [
    "# code for the GIMME test\n",
    "idx_objective = rx_names.index('biomass_reaction')\n",
    "properties = GIMMEProperties(\n",
    "\texp_vector=np.array(gimme_data['0']),\n",
    "    obj_frac=0.8,\n",
    "    objectives= [{idx_objective:1}],\n",
    "    preprocess=True,\n",
    "    flux_threshold=0.8\n",
    ")\n",
    "algorithm = GIMME(S, lb.astype(float), ub.astype(float), properties)\n",
    "model_GIMME = algorithm.run()"
   ],
   "outputs": []
  },
  {
   "cell_type": "code",
   "execution_count": 38,
   "metadata": {},
   "source": [
    "model_GIMME_final = model_cobra.copy() # this is done since it alters the original model_cobra; this way is to guarantee that a new model is changed instead of the original model\n",
    "r_ids = [r.id for r in model_GIMME_final.reactions]\n",
    "to_remove_ids = [r_ids[r] for r in np.where(model_GIMME==0)[0]]\n",
    "model_GIMME_final.remove_reactions(to_remove_ids,True) # this is to get the ids of the reactions to be removed in the model; True is to remove the pending genes/metabolites that with the removal of the reaction can no longer be connected in the network"
   ],
   "outputs": []
  },
  {
   "cell_type": "code",
   "execution_count": 39,
   "metadata": {
    "scrolled": true
   },
   "source": [
    "print('1\\'s: ' + str(len(np.where(model_GIMME==1)[0])))\n",
    "print('2\\'s: ' + str(len(np.where(model_GIMME==2)[0])))\n",
    "print('Genes: ' + str(len(model_GIMME_final.genes)))\n",
    "print('Metabolites: ' + str(len(model_GIMME_final.metabolites)))\n",
    "print('Reactions: ' + str(len(model_GIMME_final.reactions)))\n",
    "print(model_GIMME_final.objective._get_expression())\n",
    "print(model_GIMME_final.optimize())"
   ],
   "outputs": []
  },
  {
   "cell_type": "markdown",
   "metadata": {},
   "source": [
    "With GIMME we are capable of obtaining both a flux distribution and a reconstructed model.\n",
    "For the flux distribution, ...\n",
    "As for the model, it is comprised with X reactions, Y genes and Z metabolites, capable (or not) of producing biomass."
   ]
  },
  {
   "cell_type": "markdown",
   "metadata": {},
   "source": [
    "For the iMAT algorihtm, we have to provide two different thresholds (...)."
   ]
  },
  {
   "cell_type": "code",
   "execution_count": 46,
   "metadata": {},
   "source": [
    "# code for the iMAT test\n",
    "properties = IMATProperties(\n",
    "    exp_vector = np.array(iMAT_data['0'].tolist()), # check what input to here\n",
    "    exp_thresholds=(0.2,0.5)\n",
    ")\n",
    "\n",
    "method = IMAT(S, lb.astype(float), ub.astype(float), properties)\n",
    "to_remove = np.setdiff1d(list(range(S.shape[1])), method.run())"
   ],
   "outputs": []
  },
  {
   "cell_type": "code",
   "execution_count": 49,
   "metadata": {},
   "source": [
    "model_iMAT = model_cobra.copy() # this is done since it alters the original model_cobra; this way is to guarantee that a new model is changed instead of the original model\n",
    "r_ids = [r.id for r in model_iMAT.reactions]\n",
    "to_remove_ids = [r_ids[r] for r in to_remove]\n",
    "model_iMAT.remove_reactions(to_remove_ids,True) # this is to get the ids of the reactions to be removed in the model; True is to remove the pending genes/metabolites that with the removal of the reaction can no longer be connected in the network"
   ],
   "outputs": []
  },
  {
   "cell_type": "code",
   "execution_count": 50,
   "metadata": {},
   "source": [
    "print('Genes: ' + str(len(model_iMAT.genes)))\n",
    "print('Metabolites: ' + str(len(model_iMAT.metabolites)))\n",
    "print('Reactions: ' + str(len(model_iMAT.reactions)))\n",
    "print(model_iMAT.objective._get_expression())\n",
    "print(model_iMAT.optimize())"
   ],
   "outputs": []
  },
  {
   "cell_type": "markdown",
   "metadata": {},
   "source": [
    "With iMAT, we obtained a reconstructed model with X reactions, Y genes and Z metabolites, and capable(or not) of producing biomass."
   ]
  },
  {
   "cell_type": "markdown",
   "metadata": {},
   "source": [
    "The following table represents the final summary of the tested algorithms."
   ]
  },
  {
   "cell_type": "code",
   "execution_count": 1,
   "metadata": {
    "collapsed": true
   },
   "source": [
    "# code for the table (do this with pandas or markdown)"
   ],
   "outputs": []
  },
  {
   "cell_type": "markdown",
   "metadata": {},
   "source": [
    "Since we are implementing the algoirhtms based on the code of COBRA toolbox, the next table is a comparison of speed of execution. The computer used was running Windows 10 version, with a processor i7-3630QM CPU @ 2.40 GHz (8 CPU), 16GB of RAM and Python 3.5.6."
   ]
  },
  {
   "cell_type": "code",
   "execution_count": 2,
   "metadata": {
    "collapsed": true
   },
   "source": [
    "# code for the table with the benchmarks"
   ],
   "outputs": []
  },
  {
   "cell_type": "markdown",
   "metadata": {},
   "source": [
    "With this, we can see that the implementation in Pyhton is ...\n",
    "(mostly should run faster when compared to MATLAB)"
   ]
  },
  {
   "cell_type": "code",
   "execution_count": null,
   "metadata": {
    "collapsed": true
   },
   "source": [],
   "outputs": []
  }
 ],
 "metadata": {
  "kernelspec": {
   "display_name": "Python 3 (ipykernel)",
   "language": "python",
   "name": "python3"
  },
  "language_info": {
   "codemirror_mode": {
    "name": "ipython",
    "version": 3
   },
   "file_extension": ".py",
   "mimetype": "text/x-python",
   "name": "python",
   "nbconvert_exporter": "python",
   "pygments_lexer": "ipython3",
   "version": "3.7.13"
  }
 },
 "nbformat": 4,
 "nbformat_minor": 2
}
