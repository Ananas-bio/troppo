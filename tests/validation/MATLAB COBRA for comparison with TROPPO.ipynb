{
 "cells": [
  {
   "cell_type": "markdown",
   "metadata": {},
   "source": [
    "This is the Jupyter Notebook where we will run the COBRA toolbox in order to evaluate the reconstructed models and benchmark the time of each algorithm to make a comparison with our Python implementation"
   ]
  },
  {
   "cell_type": "code",
   "execution_count": 1,
   "metadata": {},
   "source": [
    "initCobraToolbox"
   ],
   "outputs": []
  },
  {
   "cell_type": "markdown",
   "metadata": {},
   "source": [
    "# DATA\n",
    "Here we will be using the model present in the FastCore test present in the COBRA toolbox"
   ]
  },
  {
   "cell_type": "code",
   "execution_count": 2,
   "metadata": {},
   "source": [
    "load('D:\\Matlab\\cobratoolbox\\test\\verifiedTests\\analysis\\testFASTCORE\\FastCoreTest.mat');"
   ],
   "outputs": []
  },
  {
   "cell_type": "markdown",
   "metadata": {},
   "source": [
    "The expression data used for the reconstruction of the tissue specific models is available at [url](url) and the preprocessed version [url_preprocessed](url_preprocessed) is obtained through a script [url_script_preprocessing](url_script_preprocessing)"
   ]
  },
  {
   "cell_type": "code",
   "execution_count": 4,
   "metadata": {},
   "source": [
    "map = readtable('D:/Matlab/tINIT_map.csv'); % this has to change for the glial cells expression dataset"
   ],
   "outputs": []
  },
  {
   "cell_type": "markdown",
   "metadata": {},
   "source": [
    "# FASTcore\n",
    "This is (...)"
   ]
  },
  {
   "cell_type": "code",
   "execution_count": 7,
   "metadata": {},
   "source": [
    "tic\n",
    "    [model_FASTcore, coreBool] = fastcore(ConsistentRecon2, coreInd, 1e-4,1); % change the core to the one we're going to generate for glial cells\n",
    "toc"
   ],
   "outputs": []
  },
  {
   "cell_type": "markdown",
   "metadata": {},
   "source": [
    "# tINIT (this uses RAVEN toolbox)\n",
    "This is (...)"
   ]
  },
  {
   "cell_type": "code",
   "execution_count": 8,
   "metadata": {},
   "source": [
    "model_tINIT = runINIT(ConsistentRecon2, table2array(map(:,2))); % This algorithm runs with Gurobi Solver"
   ],
   "outputs": []
  },
  {
   "cell_type": "markdown",
   "metadata": {},
   "source": [
    "# Note\n",
    "A change has been made in the original code for the iMAT algorithm. \n",
    "# TODO check if there is a way to bypass this without changing the code"
   ]
  },
  {
   "cell_type": "markdown",
   "metadata": {},
   "source": [
    "# iMAT\n",
    "This is the same input given to TROPPO in order to evaluate the if our implementation is well made"
   ]
  },
  {
   "cell_type": "code",
   "execution_count": 2,
   "metadata": {},
   "source": [
    "%if isfield(modelCom,'C') || isfield(modelCom,'E')\n",
    "%    issueConfirmationWarning('iMat does not handle the additional constraints and variables defined in the model structure (fields .C and .E.)\\n It will only use the stoichiometry provided.');\n",
    "%end"
   ],
   "outputs": []
  },
  {
   "cell_type": "markdown",
   "metadata": {},
   "source": [
    "This has been made just to make sure the algorithm runs without stopping at this confirmation"
   ]
  },
  {
   "cell_type": "code",
   "execution_count": 5,
   "metadata": {},
   "source": [
    "tic\n",
    "    model_iMAT = iMAT(ConsistentRecon2, table2array(map(:,2)), 2, 5);\n",
    "toc"
   ],
   "outputs": []
  },
  {
   "cell_type": "markdown",
   "metadata": {},
   "source": [
    "With this, we were able to obtain a model with X reactions, Y metabolites and Z genes, with the ability (or not) of producing biomass"
   ]
  },
  {
   "cell_type": "markdown",
   "metadata": {},
   "source": [
    "# GIMME\n",
    "This is (...)"
   ]
  },
  {
   "cell_type": "code",
   "execution_count": 6,
   "metadata": {},
   "source": [
    "tic\n",
    "    model_GIMME = GIMME(ConsistentRecon2, table2array(map(:,2)), 0.8, 0.8);\n",
    "toc"
   ],
   "outputs": []
  },
  {
   "cell_type": "markdown",
   "metadata": {},
   "source": [
    "With this, we were able to obtain a model with X reactions, Y metabolites and Z genes, with the ability (or not) of producing biomass"
   ]
  },
  {
   "cell_type": "markdown",
   "metadata": {},
   "source": [
    "# CORDA\n",
    "This is (...)  \n",
    "**NOTE** This is not present in the COBRA toolbox. Algorithm available through the following [link](https://ndownloader.figshare.com/files/4805188 \"CORDA source code\").  \n",
    "**NOTE 2** Place the *CORDA.m* file in the root of the MATLAB folder  \n",
    "**NOTE 3** The most recent version of COBRA toolbox (v3) does not allow the execution of this algoritm. To run it, please use the previous version of COBRA toolbox (v2)."
   ]
  },
  {
   "cell_type": "code",
   "execution_count": null,
   "metadata": {
    "collapsed": true
   },
   "source": [
    "% Code to separate the expression into three different groups\n",
    "ES;\n",
    "PR;\n",
    "NP;"
   ],
   "outputs": []
  },
  {
   "cell_type": "markdown",
   "metadata": {},
   "source": [
    "With this three groups, we will now run the algorithm"
   ]
  },
  {
   "cell_type": "code",
   "execution_count": null,
   "metadata": {
    "collapsed": true
   },
   "source": [
    "model_CORDA = CORDA(ConsistentRecon2, [], ES, PR, NP);"
   ],
   "outputs": []
  },
  {
   "cell_type": "markdown",
   "metadata": {},
   "source": [
    "With this, we were able to obtain a model with X reactions, Y metabolites and Z genes, with the ability (or not) of producing biomass"
   ]
  },
  {
   "cell_type": "markdown",
   "metadata": {},
   "source": [
    "The following table represents the final summary of the tested algorithms."
   ]
  },
  {
   "cell_type": "code",
   "execution_count": 3,
   "metadata": {},
   "source": [
    "% code for the table (either markdown or MATLAB)"
   ],
   "outputs": []
  },
  {
   "cell_type": "markdown",
   "metadata": {},
   "source": [
    "Since we are implementing the algoirhtms based on the code of COBRA toolbox, the next table is a comparison of speed of execution. The computer used was running Windows 10 version, with a processor i7-3630QM CPU @ 2.40 GHz (8 CPU), 16GB of RAM and MATLAB 2015a."
   ]
  },
  {
   "cell_type": "code",
   "execution_count": 4,
   "metadata": {},
   "source": [
    "% code for the table (either markdown or MATLAB)"
   ],
   "outputs": []
  }
 ],
 "metadata": {
  "kernelspec": {
   "display_name": "Matlab",
   "language": "matlab",
   "name": "matlab"
  },
  "language_info": {
   "codemirror_mode": "octave",
   "file_extension": ".m",
   "help_links": [
    {
     "text": "MetaKernel Magics",
     "url": "https://github.com/calysto/metakernel/blob/master/metakernel/magics/README.md"
    }
   ],
   "mimetype": "text/x-octave",
   "name": "matlab",
   "version": "0.16.1"
  }
 },
 "nbformat": 4,
 "nbformat_minor": 2
}
