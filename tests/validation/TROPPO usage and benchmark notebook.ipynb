{
 "cells": [
  {
   "cell_type": "code",
   "execution_count": 1,
   "metadata": {},
   "outputs": [],
   "source": [
    "import sys;sys.path.extend(['E:\\\\reconstruction', 'E:\\\\cobamp', 'E:\\\\reconstruction\\\\src', 'E:\\\\cobamp\\\\src', 'E:/reconstruction'])\n",
    "import cobra\n",
    "import framed\n",
    "import cobamp\n",
    "import pandas as pd\n",
    "import numpy as np\n",
    "import pickle\n",
    "import scipy as sci\n",
    "\n",
    "# for testing the algorithms\n",
    "from cobamp.wrappers import MatFormatReader\n",
    "from cobamp.wrappers import COBRAModelObjectReader\n",
    "from troppo.methods.imat import IMAT\n",
    "from troppo.methods.gimme import GIMME\n",
    "from troppo.methods.tINIT import tINIT\n",
    "from troppo.methods.fastcore import FASTcore\n",
    "from troppo.reconstruction_properties import FastcoreProperties, tINITProperties, GIMMEProperties, IMATProperties\n",
    "from troppo.utilities.statistics import normalize, z_score"
   ]
  },
  {
   "cell_type": "markdown",
   "metadata": {},
   "source": [
    "Here we are going to import the .mat file used for testing in the MATLAB COBRA package and will serve as basis for all the analysis and load some help functions to process the data"
   ]
  },
  {
   "cell_type": "code",
   "execution_count": 2,
   "metadata": {},
   "outputs": [],
   "source": [
    "def load_glial_data(path):\n",
    "    data = pd.read_csv(path, index_col=0)\n",
    "    normalized_data = normalize(data)\n",
    "    z = None\n",
    "\n",
    "    return normalized_data, z\n",
    "\n",
    "def get_index_core(reactions_ids, data, threshold):\n",
    "    rx_names = data.index[data['0'] > threshold].tolist()\n",
    "    index_core = [np.where(reactions_ids == r)[0][0] for r in rx_names]\n",
    "    return index_core, rx_names\n",
    "\n",
    "def get_index_values():\n",
    "    pass"
   ]
  },
  {
   "cell_type": "code",
   "execution_count": 3,
   "metadata": {},
   "outputs": [
    {
     "name": "stdout",
     "output_type": "stream",
     "text": [
      "Academic license - for non-commercial use only\n"
     ]
    }
   ],
   "source": [
    "mat = sci.io.loadmat('./tests/FastCoreTest.mat')['ConsistentRecon2']\n",
    "model_cobra = cobra.io.load_matlab_model('./tests/FastCoreTest.mat')"
   ]
  },
  {
   "cell_type": "code",
   "execution_count": 22,
   "metadata": {},
   "outputs": [
    {
     "data": {
      "text/plain": [
       "5317"
      ]
     },
     "execution_count": 22,
     "metadata": {},
     "output_type": "execute_result"
    }
   ],
   "source": [
    "len(model_cobra.reactions)"
   ]
  },
  {
   "cell_type": "markdown",
   "metadata": {},
   "source": [
    "Since the .mat file contains all the information needed for the TROPPO package to work (the S matrix, lower and upper bounds), we are going to parse it"
   ]
  },
  {
   "cell_type": "code",
   "execution_count": 4,
   "metadata": {},
   "outputs": [],
   "source": [
    "model = MatFormatReader(mat)\n",
    "S = model.S\n",
    "lb, ub = model.get_model_bounds(False, True)\n",
    "rx_names = model.get_reaction_and_metabolite_ids()[0]"
   ]
  },
  {
   "cell_type": "markdown",
   "metadata": {},
   "source": [
    "Since the algorithms need expression data to begin the pruning of the original model, we are going to import data from glial cells (complete the rest of the story here).\n",
    "We are also going to make different inputs accordingly to the needs of the algorithms that are goint to be tested."
   ]
  },
  {
   "cell_type": "code",
   "execution_count": 5,
   "metadata": {},
   "outputs": [],
   "source": [
    "original_data,_ = load_glial_data('./tests/glioma_data/grade2_calls.csv') # import of the omics data before/after preprocessing\n",
    "core, names_core = get_index_core(np.array(model.r_ids), original_data, 0.9) # this is for the FASTCORE algorithm\n",
    "reactions_scores = original_data.fillna(0) # this is the input for tINIT; reactions with NaN for score were replaced with the score of 0\n",
    "gimme_data = original_data.fillna(-1) #GIMME; reactions without expression values are not considered for the algorithm\n",
    "iMAT_data = original_data.fillna((0.2+0.5)/2)#iMAT; fillna is used with the mean of both thresholds\n",
    "# CORDA data"
   ]
  },
  {
   "cell_type": "markdown",
   "metadata": {},
   "source": [
    "From here, we are going to test the already implement algorithms for tissue reconstruction. "
   ]
  },
  {
   "cell_type": "markdown",
   "metadata": {},
   "source": [
    "First, we are going to be testing the FASTcore algorithm"
   ]
  },
  {
   "cell_type": "code",
   "execution_count": 6,
   "metadata": {},
   "outputs": [
    {
     "name": "stdout",
     "output_type": "stream",
     "text": [
      "J size209\n",
      "[  12   43   64  155  156  185  204  244  253  254  255  256  257  258\n",
      "  259  260  261  262  263  264  265  266  267  268  269  270  278  279\n",
      "  287  315  317  354  402  405  483  487  488  492  495  498  502  543\n",
      "  592  642  717  784  942  978  982 1441 1442 1443 1444 1496 1497 1498\n",
      " 1499 1500 1701 1724 1815 1895 1935 1936 1980 2018 2022 2026 2059 2080\n",
      " 2081 2114 2118 2122 2126 2129 2157 2162 2169 2185 2218 2219 2224 2257\n",
      " 2271 2273 2274 2275 2276 2277 2278 2279 2280 2281 2282 2283 2284 2285\n",
      " 2286 2287 2288 2289 2290 2291 2292 2293 2294 2295 2296 2297 2298 2299\n",
      " 2300 2301 2302 2303 2304 2305 2306 2307 2308 2309 2310 2311 2312 2313\n",
      " 2314 2315 2316 2317 2318 2319 2320 2321 2323 2418 2420 2421 2424 2426\n",
      " 2427 2428 2429 2431 2433 2434 2435 2436 2482 2483 2553 2561 2579 2603\n",
      " 2613 2619 2621 2626 2630 2644 2645 2712 2718 2728 2731 2732 2736 2755\n",
      " 2893 2913 2931 2934 2935 2938 2970 2982 3046 3049 3077 3160 3197 3234\n",
      " 3242 3251 3259 3264 3267 3272 3299 3347 3356 3384 3486 3488 3490 4425\n",
      " 4432 4433 4434 4437 4438 4457 4501 4576 4577 4597 4685 5221 5256]\n",
      "before LP7\n",
      "LP7\n"
     ]
    },
    {
     "name": "stderr",
     "output_type": "stream",
     "text": [
      "F:\\Conda\\envs\\reconstruction\\lib\\site-packages\\scipy\\sparse\\compressed.py:746 SparseEfficiencyWarning: Changing the sparsity structure of a csc_matrix is expensive. lil_matrix is more efficient.\n"
     ]
    },
    {
     "name": "stdout",
     "output_type": "stream",
     "text": [
      "-0.02089999999999993\n",
      "done LP7\n",
      "LP9\n",
      "70871.93398691867\n",
      "done LP9\n",
      "20 1099\n",
      "before LP7\n",
      "LP7\n",
      "-0.0019000000000000006\n",
      "done LP7\n",
      "LP9\n",
      "625.0\n",
      "Warning, Solution is not optimal\n",
      "done LP9\n",
      "20 1181\n",
      "before LP7\n",
      "LP7\n",
      "0.0\n",
      "done LP7\n",
      "1 1181\n",
      "Flipped\n",
      "before LP7\n",
      "LP7\n",
      "-0.0001\n",
      "done LP7\n",
      "LP9\n",
      "10.0\n",
      "done LP9\n",
      "1 1183\n",
      "before LP7\n",
      "LP7\n",
      "-0.0001\n",
      "done LP7\n",
      "LP9\n",
      "0.0\n",
      "Warning, Solution is not optimal\n",
      "done LP9\n",
      "1 1183\n",
      "Flipped\n",
      "before LP7\n",
      "LP7\n",
      "0.0\n",
      "done LP7\n",
      "1 1183\n",
      "Error: Global network is not consistent\n",
      "[46]\n"
     ]
    }
   ],
   "source": [
    "fastcore = FASTcore(S, lb, ub, FastcoreProperties(solver = 'CPLEX', core=core))\n",
    "tissue_reactions = fastcore.fastcore()"
   ]
  },
  {
   "cell_type": "code",
   "execution_count": 8,
   "metadata": {},
   "outputs": [
    {
     "name": "stdout",
     "output_type": "stream",
     "text": [
      "Read LP format model from file C:\\Users\\Jorge\\AppData\\Local\\Temp\\tmpo6p3g58w.lp\n",
      "Reading time = 0.05 seconds\n",
      ": 2960 rows, 10634 columns, 42212 nonzeros\n"
     ]
    }
   ],
   "source": [
    "model_fastcore = model_cobra.copy() # this is done since it alters the original model_cobra; this way is to guarantee that a new model is changed instead of the original model\n",
    "r_ids = [r.id for r in model_fastcore.reactions]\n",
    "model_fastcore.remove_reactions([r_ids[r] for r in tissue_reactions],True) # this is to get the ids of the reactions to be removed in the model; True is to remove the pending genes/metabolites that with the removal of the reaction can no longer be connected in the network"
   ]
  },
  {
   "cell_type": "markdown",
   "metadata": {},
   "source": [
    "With the FASTcore algorithm, we obtained a model with 4134 reactions, 1345 genes and 2458 metabolites, not capable of producing biomass."
   ]
  },
  {
   "cell_type": "code",
   "execution_count": 18,
   "metadata": {},
   "outputs": [
    {
     "name": "stdout",
     "output_type": "stream",
     "text": [
      "Genes: 1345\n",
      "Metabolites: 2458\n",
      "Reactions: 4134\n",
      "1.0*biomass_reaction - 1.0*biomass_reaction_reverse_32a6c\n",
      "<Solution 0.000 at 0x181c3284780>\n"
     ]
    }
   ],
   "source": [
    "print('Genes: ' + str(len(model_fastcore.genes)))\n",
    "print('Metabolites: ' + str(len(model_fastcore.metabolites)))\n",
    "print('Reactions: ' + str(len(model_fastcore.reactions)))\n",
    "print(model_fastcore.objective._get_expression())\n",
    "print(model_fastcore.optimize())"
   ]
  },
  {
   "cell_type": "markdown",
   "metadata": {},
   "source": [
    "Now we're going to test the tINIT algorithm. For this case, as an input we are going to only provide reactions scores. The other properties of the algorithm are set to default (including the solver)."
   ]
  },
  {
   "cell_type": "code",
   "execution_count": 7,
   "metadata": {
    "scrolled": true
   },
   "outputs": [
    {
     "name": "stdout",
     "output_type": "stream",
     "text": [
      "Changed value of parameter OutputFlag to 1\n",
      "   Prev: 0  Min: 0  Max: 1  Default: 1\n",
      "\n",
      "Warning: excessive time spent in model updates.\n",
      "Consider calling update less frequently.\n",
      "\n",
      "Optimize a model with 10692 rows, 26156 columns and 54200 nonzeros\n",
      "Variable types: 18424 continuous, 7732 integer (7732 binary)\n",
      "Coefficient statistics:\n",
      "  Matrix range     [3e-03, 1e+03]\n",
      "  Objective range  [1e-01, 1e+00]\n",
      "  Bounds range     [1e+00, 1e+03]\n",
      "  RHS range        [1e+00, 1e+00]\n",
      "Presolve removed 1112 rows and 2151 columns\n",
      "Presolve time: 0.23s\n",
      "Presolved: 9580 rows, 24005 columns, 50512 nonzeros\n",
      "Variable types: 16551 continuous, 7454 integer (7452 binary)\n",
      "Presolve removed 6860 rows and 16174 columns\n",
      "Presolved: 2720 rows, 7831 columns, 23386 nonzeros\n",
      "\n",
      "Extra 3 simplex iterations after uncrush\n",
      "\n",
      "Root relaxation: objective -1.055183e+03, 16336 iterations, 0.86 seconds\n",
      "\n",
      "    Nodes    |    Current Node    |     Objective Bounds      |     Work\n",
      " Expl Unexpl |  Obj  Depth IntInf | Incumbent    BestBd   Gap | It/Node Time\n",
      "\n",
      "     0     0 -1055.1826    0  987          - -1055.1826      -     -    2s\n",
      "     0     0 -1046.3123    0  683          - -1046.3123      -     -    3s\n",
      "     0     0 -1046.3123    0  750          - -1046.3123      -     -    4s\n",
      "     0     0 -1046.3112    0  541          - -1046.3112      -     -    4s\n",
      "     0     0 -1046.3112    0  534          - -1046.3112      -     -    4s\n",
      "     0     0 -1046.2123    0  520          - -1046.2123      -     -    5s\n",
      "     0     0 -1046.2123    0  517          - -1046.2123      -     -    5s\n",
      "     0     0 -1046.2123    0  521          - -1046.2123      -     -    5s\n",
      "     0     0 -1046.2123    0  510          - -1046.2123      -     -    5s\n",
      "     0     0 -1046.2123    0  308          - -1046.2123      -     -    7s\n",
      "     0     0 -1046.2123    0  303          - -1046.2123      -     -    8s\n",
      "     0     0 -1046.2123    0  291          - -1046.2123      -     -    9s\n",
      "     0     0 -1046.2123    0  284          - -1046.2123      -     -   10s\n",
      "     0     2 -1046.2123    0  278          - -1046.2123      -     -   13s\n",
      "    19    19 -1002.0587    5  356          - -1045.7917      -   283   15s\n",
      "    90    86 -1043.5587   19  299          - -1045.7917      -   256   20s\n",
      "   145   142 -1043.5587   32  361          - -1045.7917      -   274   25s\n",
      "   232   227 -1043.5587   51  502          - -1045.7917      -   297   31s\n",
      "   288   285 -1043.5587   71  518          - -1045.7917      -   290   35s\n",
      "   470   466 -1043.5587  126  555          - -1045.7917      -   266   44s\n",
      "   584   581 -1043.5587  170  574          - -1045.7917      -   253   49s\n",
      "   700   693 -1043.5587  212  546          - -1045.7917      -   248   54s\n",
      "   831   825 -1043.5587  263  550          - -1045.7917      -   236   58s\n",
      "   954   946 -1043.5587  300  559          - -1045.7917      -   229   63s\n",
      "  1106  1098 -1043.5587  347  522          - -1045.7917      -   219   67s\n",
      "  1252  1244 -1043.5587  382  554          - -1045.7917      -   213   72s\n",
      "  1505  1493 -1042.5814  487  472          - -1045.7917      -   194   76s\n",
      "  1798  1788 -1041.5814  633  367          - -1045.7917      -   174   80s\n",
      "  2092  2073 -1040.5814  791  264          - -1045.7917      -   157   85s\n",
      "* 2551  1559            1083    -1041.081439 -1045.7917  0.45%   137   88s\n",
      "  2640  1599     cutoff   14      -1041.0814 -1045.7917  0.45%   140   92s\n",
      "  2857  1800 -1045.7917   30  418 -1041.0814 -1045.7917  0.45%   138   96s\n",
      "H 2993  1131                    -1043.558712 -1045.7917  0.21%   136   96s\n",
      "  3135  1370 -1045.7917   41  452 -1043.5587 -1045.7917  0.21%   132  100s\n",
      "* 3406   809            1082    -1045.720931 -1045.7917  0.01%   125  100s\n",
      "  3439   829 -1045.7917  198  496 -1045.7209 -1045.7917  0.01%   127  105s\n",
      "  3442   831 -1045.7917  506  108 -1045.7209 -1045.7917  0.01%   127  111s\n",
      "  3446   834 -1045.7639  619   42 -1045.7209 -1045.7917  0.01%   127  115s\n",
      "  3452   838 -1045.7917  181   28 -1045.7209 -1045.7917  0.01%   127  120s\n",
      "  3460   843 -1045.7917  477   11 -1045.7209 -1045.7917  0.01%   126  125s\n",
      "  3466   852 -1045.7917   16   85 -1045.7209 -1045.7917  0.01%   137  130s\n",
      "  3491   866 -1045.7917   19  103 -1045.7209 -1045.7917  0.01%   136  136s\n",
      "  3513   880 -1045.7917   23  152 -1045.7209 -1045.7917  0.01%   137  142s\n",
      "  3532   891 -1045.7917   25    7 -1045.7209 -1045.7917  0.01%   139  148s\n",
      "  3631   932 -1045.7917   48    3 -1045.7209 -1045.7917  0.01%   139  154s\n",
      "* 3651   751              58    -1045.791667 -1045.7917  0.00%   138  154s\n",
      "\n",
      "Cutting planes:\n",
      "  Gomory: 268\n",
      "  Cover: 124\n",
      "  Implied bound: 335\n",
      "  Clique: 54\n",
      "  MIR: 19\n",
      "  Flow cover: 160\n",
      "  Zero half: 1\n",
      "  Network: 1\n",
      "\n",
      "Explored 3944 nodes (547680 simplex iterations) in 154.26 seconds\n",
      "Thread count was 8 (of 8 available processors)\n",
      "\n",
      "Solution count 5: -1045.79 -1045.72 -1045.72 ... -1041.08\n",
      "\n",
      "Optimal solution found (tolerance 1.00e-09)\n",
      "Best objective -1.045791666667e+03, best bound -1.045791666667e+03, gap 0.0000%\n",
      "-1045.7916666666742\n"
     ]
    }
   ],
   "source": [
    "tinit = tINIT(S, np.array(lb), np.array(ub),\n",
    "          tINITProperties(reactions_scores=list(reactions_scores['0']), present_metabolites=[], essential_reactions=[],\n",
    "                          production_weight=0.5, allow_excretion=False, no_reverse_loops=False, solver = \"GUROBI\"))\n",
    "reactions_to_remove_from_the_model = tinit.run_tINIT()"
   ]
  },
  {
   "cell_type": "code",
   "execution_count": 41,
   "metadata": {
    "scrolled": true
   },
   "outputs": [
    {
     "name": "stdout",
     "output_type": "stream",
     "text": [
      "Read LP format model from file C:\\Users\\Jorge\\AppData\\Local\\Temp\\tmp_7u2lh6i.lp\n",
      "Reading time = 0.05 seconds\n",
      ": 2960 rows, 10634 columns, 42212 nonzeros\n"
     ]
    }
   ],
   "source": [
    "reactions_to_remove_from_the_model = np.unique(np.int_(reactions_to_remove_from_the_model)).tolist()\n",
    "model_tINIT = model_cobra.copy() # this is done since it alters the original model_cobra; this way is to guarantee that a new model is changed instead of the original model\n",
    "r_ids = [r.id for r in model_tINIT.reactions]\n",
    "to_remove_ids = [r_ids[r] for r in reactions_to_remove_from_the_model]\n",
    "model_tINIT.remove_reactions(to_remove_ids,True) # this is to get the ids of the reactions to be removed in the model; True is to remove the pending genes/metabolites that with the removal of the reaction can no longer be connected in the network"
   ]
  },
  {
   "cell_type": "code",
   "execution_count": 42,
   "metadata": {},
   "outputs": [
    {
     "name": "stdout",
     "output_type": "stream",
     "text": [
      "Genes: 1139\n",
      "Metabolites: 2185\n",
      "Reactions: 1915\n",
      "0\n",
      "<Solution 0.000 at 0x21c81340d68>\n"
     ]
    }
   ],
   "source": [
    "print('Genes: ' + str(len(model_tINIT.genes)))\n",
    "print('Metabolites: ' + str(len(model_tINIT.metabolites)))\n",
    "print('Reactions: ' + str(len(model_tINIT.reactions)))\n",
    "print(model_tINIT.objective._get_expression())\n",
    "print(model_tINIT.optimize())"
   ]
  },
  {
   "cell_type": "markdown",
   "metadata": {},
   "source": [
    "With the tINIT algorithm, we obtained X specific reactions for the data provided, generatung a model with X reactions, Y genes and Z metabolites, capable (or not) of producing biomass."
   ]
  },
  {
   "cell_type": "markdown",
   "metadata": {},
   "source": [
    "For the CORDA algorithm, we needed four different types of sets of reactions (input_data3, input_data3_1, input_data3_2, input_data3_3). "
   ]
  },
  {
   "cell_type": "code",
   "execution_count": 1,
   "metadata": {
    "collapsed": true
   },
   "outputs": [],
   "source": [
    "# code for the CORDA test\n"
   ]
  },
  {
   "cell_type": "markdown",
   "metadata": {},
   "source": [
    "Regarding the CORDA reconstructed model, it has X reactions, Y genes and Z metabolites, and also capable(or not) of producing biomass"
   ]
  },
  {
   "cell_type": "markdown",
   "metadata": {},
   "source": [
    "For GIMME, we apply a threshold to the expression values originally from the expression dataset."
   ]
  },
  {
   "cell_type": "code",
   "execution_count": 37,
   "metadata": {
    "scrolled": false
   },
   "outputs": [
    {
     "name": "stdout",
     "output_type": "stream",
     "text": [
      "'__init__'  2058.51 ms\n",
      "'__init__'  2857.57 ms\n",
      "'__init__'  3389.56 ms\n"
     ]
    }
   ],
   "source": [
    "# code for the GIMME test\n",
    "idx_objective = rx_names.index('biomass_reaction')\n",
    "properties = GIMMEProperties(\n",
    "\texp_vector=np.array(gimme_data['0']),\n",
    "    obj_frac=0.8,\n",
    "    objectives= [{idx_objective:1}],\n",
    "    preprocess=True,\n",
    "    flux_threshold=0.8\n",
    ")\n",
    "algorithm = GIMME(S, lb.astype(float), ub.astype(float), properties)\n",
    "model_GIMME = algorithm.run()"
   ]
  },
  {
   "cell_type": "code",
   "execution_count": 38,
   "metadata": {},
   "outputs": [
    {
     "name": "stdout",
     "output_type": "stream",
     "text": [
      "Read LP format model from file C:\\Users\\Jorge\\AppData\\Local\\Temp\\tmpew68h5co.lp\n",
      "Reading time = 0.05 seconds\n",
      ": 2960 rows, 10634 columns, 42212 nonzeros\n"
     ]
    }
   ],
   "source": [
    "model_GIMME_final = model_cobra.copy() # this is done since it alters the original model_cobra; this way is to guarantee that a new model is changed instead of the original model\n",
    "r_ids = [r.id for r in model_GIMME_final.reactions]\n",
    "to_remove_ids = [r_ids[r] for r in np.where(model_GIMME==0)[0]]\n",
    "model_GIMME_final.remove_reactions(to_remove_ids,True) # this is to get the ids of the reactions to be removed in the model; True is to remove the pending genes/metabolites that with the removal of the reaction can no longer be connected in the network"
   ]
  },
  {
   "cell_type": "code",
   "execution_count": 39,
   "metadata": {
    "scrolled": true
   },
   "outputs": [
    {
     "name": "stdout",
     "output_type": "stream",
     "text": [
      "1's: 5154\n",
      "2's: 6\n",
      "Genes: 1895\n",
      "Metabolites: 2951\n",
      "Reactions: 5160\n",
      "1.0*biomass_reaction - 1.0*biomass_reaction_reverse_32a6c\n",
      "<Solution 3.198 at 0x1fa08044f98>\n"
     ]
    }
   ],
   "source": [
    "print('1\\'s: ' + str(len(np.where(model_GIMME==1)[0])))\n",
    "print('2\\'s: ' + str(len(np.where(model_GIMME==2)[0])))\n",
    "print('Genes: ' + str(len(model_GIMME_final.genes)))\n",
    "print('Metabolites: ' + str(len(model_GIMME_final.metabolites)))\n",
    "print('Reactions: ' + str(len(model_GIMME_final.reactions)))\n",
    "print(model_GIMME_final.objective._get_expression())\n",
    "print(model_GIMME_final.optimize())"
   ]
  },
  {
   "cell_type": "markdown",
   "metadata": {},
   "source": [
    "With GIMME we are capable of obtaining both a flux distribution and a reconstructed model.\n",
    "For the flux distribution, ...\n",
    "As for the model, it is comprised with X reactions, Y genes and Z metabolites, capable (or not) of producing biomass."
   ]
  },
  {
   "cell_type": "markdown",
   "metadata": {},
   "source": [
    "For the iMAT algorihtm, we have to provide two different thresholds (...)."
   ]
  },
  {
   "cell_type": "code",
   "execution_count": 46,
   "metadata": {},
   "outputs": [],
   "source": [
    "# code for the iMAT test\n",
    "properties = IMATProperties(\n",
    "    exp_vector = np.array(iMAT_data['0'].tolist()), # check what input to here\n",
    "    exp_thresholds=(0.2,0.5)\n",
    ")\n",
    "\n",
    "method = IMAT(S, lb.astype(float), ub.astype(float), properties)\n",
    "to_remove = np.setdiff1d(list(range(S.shape[1])), method.run())"
   ]
  },
  {
   "cell_type": "code",
   "execution_count": 49,
   "metadata": {},
   "outputs": [
    {
     "name": "stdout",
     "output_type": "stream",
     "text": [
      "Read LP format model from file C:\\Users\\Jorge\\AppData\\Local\\Temp\\tmpjw601stq.lp\n",
      "Reading time = 0.05 seconds\n",
      ": 2960 rows, 10634 columns, 42212 nonzeros\n"
     ]
    }
   ],
   "source": [
    "model_iMAT = model_cobra.copy() # this is done since it alters the original model_cobra; this way is to guarantee that a new model is changed instead of the original model\n",
    "r_ids = [r.id for r in model_iMAT.reactions]\n",
    "to_remove_ids = [r_ids[r] for r in to_remove]\n",
    "model_iMAT.remove_reactions(to_remove_ids,True) # this is to get the ids of the reactions to be removed in the model; True is to remove the pending genes/metabolites that with the removal of the reaction can no longer be connected in the network"
   ]
  },
  {
   "cell_type": "code",
   "execution_count": 50,
   "metadata": {},
   "outputs": [
    {
     "name": "stdout",
     "output_type": "stream",
     "text": [
      "Genes: 1253\n",
      "Metabolites: 1829\n",
      "Reactions: 2569\n",
      "0\n",
      "<Solution 0.000 at 0x1fa2238c710>\n"
     ]
    }
   ],
   "source": [
    "print('Genes: ' + str(len(model_iMAT.genes)))\n",
    "print('Metabolites: ' + str(len(model_iMAT.metabolites)))\n",
    "print('Reactions: ' + str(len(model_iMAT.reactions)))\n",
    "print(model_iMAT.objective._get_expression())\n",
    "print(model_iMAT.optimize())"
   ]
  },
  {
   "cell_type": "markdown",
   "metadata": {},
   "source": [
    "With iMAT, we obtained a reconstructed model with X reactions, Y genes and Z metabolites, and capable(or not) of producing biomass."
   ]
  },
  {
   "cell_type": "markdown",
   "metadata": {},
   "source": [
    "The following table represents the final summary of the tested algorithms."
   ]
  },
  {
   "cell_type": "code",
   "execution_count": 1,
   "metadata": {
    "collapsed": true
   },
   "outputs": [],
   "source": [
    "# code for the table (do this with pandas or markdown)"
   ]
  },
  {
   "cell_type": "markdown",
   "metadata": {},
   "source": [
    "Since we are implementing the algoirhtms based on the code of COBRA toolbox, the next table is a comparison of speed of execution. The computer used was running Windows 10 version, with a processor i7-3630QM CPU @ 2.40 GHz (8 CPU), 16GB of RAM and Python 3.5.6."
   ]
  },
  {
   "cell_type": "code",
   "execution_count": 2,
   "metadata": {
    "collapsed": true
   },
   "outputs": [],
   "source": [
    "# code for the table with the benchmarks"
   ]
  },
  {
   "cell_type": "markdown",
   "metadata": {},
   "source": [
    "With this, we can see that the implementation in Pyhton is ...\n",
    "(mostly should run faster when compared to MATLAB)"
   ]
  },
  {
   "cell_type": "code",
   "execution_count": null,
   "metadata": {
    "collapsed": true
   },
   "outputs": [],
   "source": []
  }
 ],
 "metadata": {
  "kernelspec": {
   "display_name": "Python 3",
   "language": "python",
   "name": "python3"
  },
  "language_info": {
   "codemirror_mode": {
    "name": "ipython",
    "version": 3
   },
   "file_extension": ".py",
   "mimetype": "text/x-python",
   "name": "python",
   "nbconvert_exporter": "python",
   "pygments_lexer": "ipython3",
   "version": "3.5.6"
  }
 },
 "nbformat": 4,
 "nbformat_minor": 2
}
